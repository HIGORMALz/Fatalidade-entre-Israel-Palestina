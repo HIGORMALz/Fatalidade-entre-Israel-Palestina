{
  "nbformat": 4,
  "nbformat_minor": 0,
  "metadata": {
    "colab": {
      "provenance": []
    },
    "kernelspec": {
      "name": "python3",
      "display_name": "Python 3"
    },
    "language_info": {
      "name": "python"
    }
  },
  "cells": [
    {
      "cell_type": "markdown",
      "source": [
        "# **Análise de dados: Fatalidades Conflito Israel-Palestinos 2000 a 2023**"
      ],
      "metadata": {
        "id": "flNBmGRHvs-m"
      }
    },
    {
      "cell_type": "markdown",
      "source": [
        "# **Tópicos**\n",
        "\n",
        "<ol type=\"1\">\n",
        "  <li>Introdução;</li>\n",
        "  <li>Análise Exploratória de Dados;</li>\n",
        "  <li>Visualização Dados;</li>\n",
        "  <li>Storytelling.</li>\n",
        "</ol>"
      ],
      "metadata": {
        "id": "QCjmZCaNvs3K"
      }
    },
    {
      "cell_type": "markdown",
      "source": [
        "## 1\\. Introdução"
      ],
      "metadata": {
        "id": "eKOPHhBwvssu"
      }
    },
    {
      "cell_type": "markdown",
      "source": [
        "### **1.1. Conflito entre Israel e Palestinos.**"
      ],
      "metadata": {
        "id": "yDfKKY1PyAyD"
      }
    },
    {
      "cell_type": "markdown",
      "source": [
        "> Nesse projeto vamos analisar o perfil das vítimas com base nos dados disponíveis, como idade, sexo, cidadania e local de residência. com intuito de identificar características comuns entre as vitimas.\n",
        "Vamos analisar também os meios pelo qual os individuos foram mortos. Determinar as armas ou métodos mais usados e avaliar o impacto."
      ],
      "metadata": {
        "id": "9Z2dDoiXyAtA"
      }
    },
    {
      "cell_type": "markdown",
      "source": [
        "### **1.2. Dados**"
      ],
      "metadata": {
        "id": "-MmnMqD2yALK"
      }
    },
    {
      "cell_type": "markdown",
      "source": [
        "Os dados estão disponíveis no kaggle ([link](https://www.kaggle.com/datasets/willianoliveiragibin/fatalities-in-the-israeli-palestinian/data)). O conjunto de dados registra mortes no conflito israelense-palestino  de 2000 a 2023."
      ],
      "metadata": {
        "id": "xbeiAxck0x_T"
      }
    },
    {
      "cell_type": "markdown",
      "source": [
        "* **name**: Nome do indivíduo;\n",
        "* **date_of_event**: Data do evento;\n",
        "* **age**: Idade do indivíduo;\n",
        "* **citizenship**: Cidadania;\n",
        "* **event_location**: Localização do evento ocorrido;\n",
        "* **event_location_district**: Estado do local ocorrido;\n",
        "* **event_location_region**: Região do evento ocorrido;\n",
        "* **date_of_death**: Data da morte;\n",
        "* **gender**: Gênero do indivíduo (M e F);\n",
        "* **took_part_in_the_hostilities**: Se participou das hostilidades;\n",
        "* **place_of_residence**: Local de residência;\n",
        "* **place_of_residence_district**: Estado aonde se encontra a residência;\n",
        "* **type_of_injury**: Tipo de lesão;\n",
        "* **ammuniyion**: Munição utilizada;\n",
        "* **killed_by**: morto por quem;\n",
        "* **notes**: Uma descriçao sobre a morte;\n",
        "\n"
      ],
      "metadata": {
        "id": "mcsYDpE_0x7t"
      }
    },
    {
      "cell_type": "markdown",
      "source": [
        "### **1.3. Bibliotecas**"
      ],
      "metadata": {
        "id": "J2T--lJ4_kzD"
      }
    },
    {
      "cell_type": "code",
      "source": [
        "import pandas as pd\n",
        "from datetime import datetime\n",
        "\n",
        "from matplotlib.cbook import is_writable_file_like\n",
        "import matplotlib.pyplot as plt\n",
        "import seaborn as sns\n",
        "import plotly.express as px"
      ],
      "metadata": {
        "id": "QcodvueX_ouY"
      },
      "execution_count": 42,
      "outputs": []
    },
    {
      "cell_type": "markdown",
      "source": [
        "## 2\\. Análise Exploratória de Dados."
      ],
      "metadata": {
        "id": "GA9ETp6b0x5E"
      }
    },
    {
      "cell_type": "markdown",
      "source": [
        "### **2.1 Extração**"
      ],
      "metadata": {
        "id": "5Sg0T9JzutXN"
      }
    },
    {
      "cell_type": "code",
      "execution_count": 43,
      "metadata": {
        "colab": {
          "base_uri": "https://localhost:8080/",
          "height": 712
        },
        "id": "DJRAkW0IHoW8",
        "outputId": "e17b23b5-6c86-4c0a-e31c-c11546eac2cf"
      },
      "outputs": [
        {
          "output_type": "execute_result",
          "data": {
            "text/plain": [
              "                                          name date_of_event   age  \\\n",
              "0  'Abd a-Rahman Suleiman Muhammad Abu Daghash    2023-09-24  32.0   \n",
              "1         Usayed Farhan Muhammad 'Ali Abu 'Ali    2023-09-24  21.0   \n",
              "2             'Abdallah 'Imad Sa'ed Abu Hassan    2023-09-22  16.0   \n",
              "3             Durgham Muhammad Yihya al-Akhras    2023-09-20  19.0   \n",
              "4                 Raafat 'Omar Ahmad Khamaisah    2023-09-19  15.0   \n",
              "\n",
              "   citizenship     event_location event_location_district  \\\n",
              "0  Palestinian     Nur Shams R.C.                 Tulkarm   \n",
              "1  Palestinian     Nur Shams R.C.                 Tulkarm   \n",
              "2  Palestinian           Kfar Dan                   Jenin   \n",
              "3  Palestinian  'Aqbat Jaber R.C.                 Jericho   \n",
              "4  Palestinian         Jenin R.C.                   Jenin   \n",
              "\n",
              "  event_location_region date_of_death gender took_part_in_the_hostilities  \\\n",
              "0             West Bank    2023-09-24      M                          NaN   \n",
              "1             West Bank    2023-09-24      M                          NaN   \n",
              "2             West Bank    2023-09-22      M                          NaN   \n",
              "3             West Bank    2023-09-20      M                          NaN   \n",
              "4             West Bank    2023-09-19      M                          NaN   \n",
              "\n",
              "  place_of_residence place_of_residence_district type_of_injury  \\\n",
              "0     Nur Shams R.C.                     Tulkarm        gunfire   \n",
              "1     Nur Shams R.C.                     Tulkarm        gunfire   \n",
              "2           al-Yamun                       Jenin        gunfire   \n",
              "3  'Aqbat Jaber R.C.                     Jericho        gunfire   \n",
              "4              Jenin                       Jenin        gunfire   \n",
              "\n",
              "        ammunition                killed_by  \\\n",
              "0  live ammunition  Israeli security forces   \n",
              "1  live ammunition  Israeli security forces   \n",
              "2  live ammunition  Israeli security forces   \n",
              "3  live ammunition  Israeli security forces   \n",
              "4  live ammunition  Israeli security forces   \n",
              "\n",
              "                                               notes  \n",
              "0  Fatally shot by Israeli forces while standing ...  \n",
              "1  Fatally shot by Israeli forces while trying to...  \n",
              "2  Fatally shot by soldiers while firing at them ...  \n",
              "3  Shot in the head by Israeli forces while throw...  \n",
              "4  Wounded by soldiers’ gunfire after running awa...  "
            ],
            "text/html": [
              "\n",
              "  <div id=\"df-cac88b88-61ae-47d3-948e-7080e7c2e9f0\" class=\"colab-df-container\">\n",
              "    <div>\n",
              "<style scoped>\n",
              "    .dataframe tbody tr th:only-of-type {\n",
              "        vertical-align: middle;\n",
              "    }\n",
              "\n",
              "    .dataframe tbody tr th {\n",
              "        vertical-align: top;\n",
              "    }\n",
              "\n",
              "    .dataframe thead th {\n",
              "        text-align: right;\n",
              "    }\n",
              "</style>\n",
              "<table border=\"1\" class=\"dataframe\">\n",
              "  <thead>\n",
              "    <tr style=\"text-align: right;\">\n",
              "      <th></th>\n",
              "      <th>name</th>\n",
              "      <th>date_of_event</th>\n",
              "      <th>age</th>\n",
              "      <th>citizenship</th>\n",
              "      <th>event_location</th>\n",
              "      <th>event_location_district</th>\n",
              "      <th>event_location_region</th>\n",
              "      <th>date_of_death</th>\n",
              "      <th>gender</th>\n",
              "      <th>took_part_in_the_hostilities</th>\n",
              "      <th>place_of_residence</th>\n",
              "      <th>place_of_residence_district</th>\n",
              "      <th>type_of_injury</th>\n",
              "      <th>ammunition</th>\n",
              "      <th>killed_by</th>\n",
              "      <th>notes</th>\n",
              "    </tr>\n",
              "  </thead>\n",
              "  <tbody>\n",
              "    <tr>\n",
              "      <th>0</th>\n",
              "      <td>'Abd a-Rahman Suleiman Muhammad Abu Daghash</td>\n",
              "      <td>2023-09-24</td>\n",
              "      <td>32.0</td>\n",
              "      <td>Palestinian</td>\n",
              "      <td>Nur Shams R.C.</td>\n",
              "      <td>Tulkarm</td>\n",
              "      <td>West Bank</td>\n",
              "      <td>2023-09-24</td>\n",
              "      <td>M</td>\n",
              "      <td>NaN</td>\n",
              "      <td>Nur Shams R.C.</td>\n",
              "      <td>Tulkarm</td>\n",
              "      <td>gunfire</td>\n",
              "      <td>live ammunition</td>\n",
              "      <td>Israeli security forces</td>\n",
              "      <td>Fatally shot by Israeli forces while standing ...</td>\n",
              "    </tr>\n",
              "    <tr>\n",
              "      <th>1</th>\n",
              "      <td>Usayed Farhan Muhammad 'Ali Abu 'Ali</td>\n",
              "      <td>2023-09-24</td>\n",
              "      <td>21.0</td>\n",
              "      <td>Palestinian</td>\n",
              "      <td>Nur Shams R.C.</td>\n",
              "      <td>Tulkarm</td>\n",
              "      <td>West Bank</td>\n",
              "      <td>2023-09-24</td>\n",
              "      <td>M</td>\n",
              "      <td>NaN</td>\n",
              "      <td>Nur Shams R.C.</td>\n",
              "      <td>Tulkarm</td>\n",
              "      <td>gunfire</td>\n",
              "      <td>live ammunition</td>\n",
              "      <td>Israeli security forces</td>\n",
              "      <td>Fatally shot by Israeli forces while trying to...</td>\n",
              "    </tr>\n",
              "    <tr>\n",
              "      <th>2</th>\n",
              "      <td>'Abdallah 'Imad Sa'ed Abu Hassan</td>\n",
              "      <td>2023-09-22</td>\n",
              "      <td>16.0</td>\n",
              "      <td>Palestinian</td>\n",
              "      <td>Kfar Dan</td>\n",
              "      <td>Jenin</td>\n",
              "      <td>West Bank</td>\n",
              "      <td>2023-09-22</td>\n",
              "      <td>M</td>\n",
              "      <td>NaN</td>\n",
              "      <td>al-Yamun</td>\n",
              "      <td>Jenin</td>\n",
              "      <td>gunfire</td>\n",
              "      <td>live ammunition</td>\n",
              "      <td>Israeli security forces</td>\n",
              "      <td>Fatally shot by soldiers while firing at them ...</td>\n",
              "    </tr>\n",
              "    <tr>\n",
              "      <th>3</th>\n",
              "      <td>Durgham Muhammad Yihya al-Akhras</td>\n",
              "      <td>2023-09-20</td>\n",
              "      <td>19.0</td>\n",
              "      <td>Palestinian</td>\n",
              "      <td>'Aqbat Jaber R.C.</td>\n",
              "      <td>Jericho</td>\n",
              "      <td>West Bank</td>\n",
              "      <td>2023-09-20</td>\n",
              "      <td>M</td>\n",
              "      <td>NaN</td>\n",
              "      <td>'Aqbat Jaber R.C.</td>\n",
              "      <td>Jericho</td>\n",
              "      <td>gunfire</td>\n",
              "      <td>live ammunition</td>\n",
              "      <td>Israeli security forces</td>\n",
              "      <td>Shot in the head by Israeli forces while throw...</td>\n",
              "    </tr>\n",
              "    <tr>\n",
              "      <th>4</th>\n",
              "      <td>Raafat 'Omar Ahmad Khamaisah</td>\n",
              "      <td>2023-09-19</td>\n",
              "      <td>15.0</td>\n",
              "      <td>Palestinian</td>\n",
              "      <td>Jenin R.C.</td>\n",
              "      <td>Jenin</td>\n",
              "      <td>West Bank</td>\n",
              "      <td>2023-09-19</td>\n",
              "      <td>M</td>\n",
              "      <td>NaN</td>\n",
              "      <td>Jenin</td>\n",
              "      <td>Jenin</td>\n",
              "      <td>gunfire</td>\n",
              "      <td>live ammunition</td>\n",
              "      <td>Israeli security forces</td>\n",
              "      <td>Wounded by soldiers’ gunfire after running awa...</td>\n",
              "    </tr>\n",
              "  </tbody>\n",
              "</table>\n",
              "</div>\n",
              "    <div class=\"colab-df-buttons\">\n",
              "\n",
              "  <div class=\"colab-df-container\">\n",
              "    <button class=\"colab-df-convert\" onclick=\"convertToInteractive('df-cac88b88-61ae-47d3-948e-7080e7c2e9f0')\"\n",
              "            title=\"Convert this dataframe to an interactive table.\"\n",
              "            style=\"display:none;\">\n",
              "\n",
              "  <svg xmlns=\"http://www.w3.org/2000/svg\" height=\"24px\" viewBox=\"0 -960 960 960\">\n",
              "    <path d=\"M120-120v-720h720v720H120Zm60-500h600v-160H180v160Zm220 220h160v-160H400v160Zm0 220h160v-160H400v160ZM180-400h160v-160H180v160Zm440 0h160v-160H620v160ZM180-180h160v-160H180v160Zm440 0h160v-160H620v160Z\"/>\n",
              "  </svg>\n",
              "    </button>\n",
              "\n",
              "  <style>\n",
              "    .colab-df-container {\n",
              "      display:flex;\n",
              "      gap: 12px;\n",
              "    }\n",
              "\n",
              "    .colab-df-convert {\n",
              "      background-color: #E8F0FE;\n",
              "      border: none;\n",
              "      border-radius: 50%;\n",
              "      cursor: pointer;\n",
              "      display: none;\n",
              "      fill: #1967D2;\n",
              "      height: 32px;\n",
              "      padding: 0 0 0 0;\n",
              "      width: 32px;\n",
              "    }\n",
              "\n",
              "    .colab-df-convert:hover {\n",
              "      background-color: #E2EBFA;\n",
              "      box-shadow: 0px 1px 2px rgba(60, 64, 67, 0.3), 0px 1px 3px 1px rgba(60, 64, 67, 0.15);\n",
              "      fill: #174EA6;\n",
              "    }\n",
              "\n",
              "    .colab-df-buttons div {\n",
              "      margin-bottom: 4px;\n",
              "    }\n",
              "\n",
              "    [theme=dark] .colab-df-convert {\n",
              "      background-color: #3B4455;\n",
              "      fill: #D2E3FC;\n",
              "    }\n",
              "\n",
              "    [theme=dark] .colab-df-convert:hover {\n",
              "      background-color: #434B5C;\n",
              "      box-shadow: 0px 1px 3px 1px rgba(0, 0, 0, 0.15);\n",
              "      filter: drop-shadow(0px 1px 2px rgba(0, 0, 0, 0.3));\n",
              "      fill: #FFFFFF;\n",
              "    }\n",
              "  </style>\n",
              "\n",
              "    <script>\n",
              "      const buttonEl =\n",
              "        document.querySelector('#df-cac88b88-61ae-47d3-948e-7080e7c2e9f0 button.colab-df-convert');\n",
              "      buttonEl.style.display =\n",
              "        google.colab.kernel.accessAllowed ? 'block' : 'none';\n",
              "\n",
              "      async function convertToInteractive(key) {\n",
              "        const element = document.querySelector('#df-cac88b88-61ae-47d3-948e-7080e7c2e9f0');\n",
              "        const dataTable =\n",
              "          await google.colab.kernel.invokeFunction('convertToInteractive',\n",
              "                                                    [key], {});\n",
              "        if (!dataTable) return;\n",
              "\n",
              "        const docLinkHtml = 'Like what you see? Visit the ' +\n",
              "          '<a target=\"_blank\" href=https://colab.research.google.com/notebooks/data_table.ipynb>data table notebook</a>'\n",
              "          + ' to learn more about interactive tables.';\n",
              "        element.innerHTML = '';\n",
              "        dataTable['output_type'] = 'display_data';\n",
              "        await google.colab.output.renderOutput(dataTable, element);\n",
              "        const docLink = document.createElement('div');\n",
              "        docLink.innerHTML = docLinkHtml;\n",
              "        element.appendChild(docLink);\n",
              "      }\n",
              "    </script>\n",
              "  </div>\n",
              "\n",
              "\n",
              "<div id=\"df-ceae1527-2034-4033-9dfa-d7cb31715296\">\n",
              "  <button class=\"colab-df-quickchart\" onclick=\"quickchart('df-ceae1527-2034-4033-9dfa-d7cb31715296')\"\n",
              "            title=\"Suggest charts.\"\n",
              "            style=\"display:none;\">\n",
              "\n",
              "<svg xmlns=\"http://www.w3.org/2000/svg\" height=\"24px\"viewBox=\"0 0 24 24\"\n",
              "     width=\"24px\">\n",
              "    <g>\n",
              "        <path d=\"M19 3H5c-1.1 0-2 .9-2 2v14c0 1.1.9 2 2 2h14c1.1 0 2-.9 2-2V5c0-1.1-.9-2-2-2zM9 17H7v-7h2v7zm4 0h-2V7h2v10zm4 0h-2v-4h2v4z\"/>\n",
              "    </g>\n",
              "</svg>\n",
              "  </button>\n",
              "\n",
              "<style>\n",
              "  .colab-df-quickchart {\n",
              "      --bg-color: #E8F0FE;\n",
              "      --fill-color: #1967D2;\n",
              "      --hover-bg-color: #E2EBFA;\n",
              "      --hover-fill-color: #174EA6;\n",
              "      --disabled-fill-color: #AAA;\n",
              "      --disabled-bg-color: #DDD;\n",
              "  }\n",
              "\n",
              "  [theme=dark] .colab-df-quickchart {\n",
              "      --bg-color: #3B4455;\n",
              "      --fill-color: #D2E3FC;\n",
              "      --hover-bg-color: #434B5C;\n",
              "      --hover-fill-color: #FFFFFF;\n",
              "      --disabled-bg-color: #3B4455;\n",
              "      --disabled-fill-color: #666;\n",
              "  }\n",
              "\n",
              "  .colab-df-quickchart {\n",
              "    background-color: var(--bg-color);\n",
              "    border: none;\n",
              "    border-radius: 50%;\n",
              "    cursor: pointer;\n",
              "    display: none;\n",
              "    fill: var(--fill-color);\n",
              "    height: 32px;\n",
              "    padding: 0;\n",
              "    width: 32px;\n",
              "  }\n",
              "\n",
              "  .colab-df-quickchart:hover {\n",
              "    background-color: var(--hover-bg-color);\n",
              "    box-shadow: 0 1px 2px rgba(60, 64, 67, 0.3), 0 1px 3px 1px rgba(60, 64, 67, 0.15);\n",
              "    fill: var(--button-hover-fill-color);\n",
              "  }\n",
              "\n",
              "  .colab-df-quickchart-complete:disabled,\n",
              "  .colab-df-quickchart-complete:disabled:hover {\n",
              "    background-color: var(--disabled-bg-color);\n",
              "    fill: var(--disabled-fill-color);\n",
              "    box-shadow: none;\n",
              "  }\n",
              "\n",
              "  .colab-df-spinner {\n",
              "    border: 2px solid var(--fill-color);\n",
              "    border-color: transparent;\n",
              "    border-bottom-color: var(--fill-color);\n",
              "    animation:\n",
              "      spin 1s steps(1) infinite;\n",
              "  }\n",
              "\n",
              "  @keyframes spin {\n",
              "    0% {\n",
              "      border-color: transparent;\n",
              "      border-bottom-color: var(--fill-color);\n",
              "      border-left-color: var(--fill-color);\n",
              "    }\n",
              "    20% {\n",
              "      border-color: transparent;\n",
              "      border-left-color: var(--fill-color);\n",
              "      border-top-color: var(--fill-color);\n",
              "    }\n",
              "    30% {\n",
              "      border-color: transparent;\n",
              "      border-left-color: var(--fill-color);\n",
              "      border-top-color: var(--fill-color);\n",
              "      border-right-color: var(--fill-color);\n",
              "    }\n",
              "    40% {\n",
              "      border-color: transparent;\n",
              "      border-right-color: var(--fill-color);\n",
              "      border-top-color: var(--fill-color);\n",
              "    }\n",
              "    60% {\n",
              "      border-color: transparent;\n",
              "      border-right-color: var(--fill-color);\n",
              "    }\n",
              "    80% {\n",
              "      border-color: transparent;\n",
              "      border-right-color: var(--fill-color);\n",
              "      border-bottom-color: var(--fill-color);\n",
              "    }\n",
              "    90% {\n",
              "      border-color: transparent;\n",
              "      border-bottom-color: var(--fill-color);\n",
              "    }\n",
              "  }\n",
              "</style>\n",
              "\n",
              "  <script>\n",
              "    async function quickchart(key) {\n",
              "      const quickchartButtonEl =\n",
              "        document.querySelector('#' + key + ' button');\n",
              "      quickchartButtonEl.disabled = true;  // To prevent multiple clicks.\n",
              "      quickchartButtonEl.classList.add('colab-df-spinner');\n",
              "      try {\n",
              "        const charts = await google.colab.kernel.invokeFunction(\n",
              "            'suggestCharts', [key], {});\n",
              "      } catch (error) {\n",
              "        console.error('Error during call to suggestCharts:', error);\n",
              "      }\n",
              "      quickchartButtonEl.classList.remove('colab-df-spinner');\n",
              "      quickchartButtonEl.classList.add('colab-df-quickchart-complete');\n",
              "    }\n",
              "    (() => {\n",
              "      let quickchartButtonEl =\n",
              "        document.querySelector('#df-ceae1527-2034-4033-9dfa-d7cb31715296 button');\n",
              "      quickchartButtonEl.style.display =\n",
              "        google.colab.kernel.accessAllowed ? 'block' : 'none';\n",
              "    })();\n",
              "  </script>\n",
              "</div>\n",
              "    </div>\n",
              "  </div>\n"
            ]
          },
          "metadata": {},
          "execution_count": 43
        }
      ],
      "source": [
        "df_conflito = pd.read_csv('israel-pse.csv', parse_dates=[1], infer_datetime_format=True)\n",
        "\n",
        "\n",
        "df_conflito.head()# visualizando as primeiras linhas"
      ]
    },
    {
      "cell_type": "markdown",
      "source": [
        "Vamos selecionar as colunas de interesse"
      ],
      "metadata": {
        "id": "kZujg_LDveWY"
      }
    },
    {
      "cell_type": "code",
      "source": [
        "df_conflito = df_conflito[['date_of_event', 'age', 'citizenship', 'gender', 'place_of_residence', 'type_of_injury', 'killed_by']]\n"
      ],
      "metadata": {
        "id": "q2sOafVqveD5"
      },
      "execution_count": 44,
      "outputs": []
    },
    {
      "cell_type": "code",
      "source": [
        "df_conflito.head()"
      ],
      "metadata": {
        "colab": {
          "base_uri": "https://localhost:8080/",
          "height": 206
        },
        "id": "OfVxKXPn6bQY",
        "outputId": "1dac3b0c-792c-4027-e139-688412cb2eaf"
      },
      "execution_count": 45,
      "outputs": [
        {
          "output_type": "execute_result",
          "data": {
            "text/plain": [
              "  date_of_event   age  citizenship gender place_of_residence type_of_injury  \\\n",
              "0    2023-09-24  32.0  Palestinian      M     Nur Shams R.C.        gunfire   \n",
              "1    2023-09-24  21.0  Palestinian      M     Nur Shams R.C.        gunfire   \n",
              "2    2023-09-22  16.0  Palestinian      M           al-Yamun        gunfire   \n",
              "3    2023-09-20  19.0  Palestinian      M  'Aqbat Jaber R.C.        gunfire   \n",
              "4    2023-09-19  15.0  Palestinian      M              Jenin        gunfire   \n",
              "\n",
              "                 killed_by  \n",
              "0  Israeli security forces  \n",
              "1  Israeli security forces  \n",
              "2  Israeli security forces  \n",
              "3  Israeli security forces  \n",
              "4  Israeli security forces  "
            ],
            "text/html": [
              "\n",
              "  <div id=\"df-29d788f0-da4c-48bb-b79c-86fd940da438\" class=\"colab-df-container\">\n",
              "    <div>\n",
              "<style scoped>\n",
              "    .dataframe tbody tr th:only-of-type {\n",
              "        vertical-align: middle;\n",
              "    }\n",
              "\n",
              "    .dataframe tbody tr th {\n",
              "        vertical-align: top;\n",
              "    }\n",
              "\n",
              "    .dataframe thead th {\n",
              "        text-align: right;\n",
              "    }\n",
              "</style>\n",
              "<table border=\"1\" class=\"dataframe\">\n",
              "  <thead>\n",
              "    <tr style=\"text-align: right;\">\n",
              "      <th></th>\n",
              "      <th>date_of_event</th>\n",
              "      <th>age</th>\n",
              "      <th>citizenship</th>\n",
              "      <th>gender</th>\n",
              "      <th>place_of_residence</th>\n",
              "      <th>type_of_injury</th>\n",
              "      <th>killed_by</th>\n",
              "    </tr>\n",
              "  </thead>\n",
              "  <tbody>\n",
              "    <tr>\n",
              "      <th>0</th>\n",
              "      <td>2023-09-24</td>\n",
              "      <td>32.0</td>\n",
              "      <td>Palestinian</td>\n",
              "      <td>M</td>\n",
              "      <td>Nur Shams R.C.</td>\n",
              "      <td>gunfire</td>\n",
              "      <td>Israeli security forces</td>\n",
              "    </tr>\n",
              "    <tr>\n",
              "      <th>1</th>\n",
              "      <td>2023-09-24</td>\n",
              "      <td>21.0</td>\n",
              "      <td>Palestinian</td>\n",
              "      <td>M</td>\n",
              "      <td>Nur Shams R.C.</td>\n",
              "      <td>gunfire</td>\n",
              "      <td>Israeli security forces</td>\n",
              "    </tr>\n",
              "    <tr>\n",
              "      <th>2</th>\n",
              "      <td>2023-09-22</td>\n",
              "      <td>16.0</td>\n",
              "      <td>Palestinian</td>\n",
              "      <td>M</td>\n",
              "      <td>al-Yamun</td>\n",
              "      <td>gunfire</td>\n",
              "      <td>Israeli security forces</td>\n",
              "    </tr>\n",
              "    <tr>\n",
              "      <th>3</th>\n",
              "      <td>2023-09-20</td>\n",
              "      <td>19.0</td>\n",
              "      <td>Palestinian</td>\n",
              "      <td>M</td>\n",
              "      <td>'Aqbat Jaber R.C.</td>\n",
              "      <td>gunfire</td>\n",
              "      <td>Israeli security forces</td>\n",
              "    </tr>\n",
              "    <tr>\n",
              "      <th>4</th>\n",
              "      <td>2023-09-19</td>\n",
              "      <td>15.0</td>\n",
              "      <td>Palestinian</td>\n",
              "      <td>M</td>\n",
              "      <td>Jenin</td>\n",
              "      <td>gunfire</td>\n",
              "      <td>Israeli security forces</td>\n",
              "    </tr>\n",
              "  </tbody>\n",
              "</table>\n",
              "</div>\n",
              "    <div class=\"colab-df-buttons\">\n",
              "\n",
              "  <div class=\"colab-df-container\">\n",
              "    <button class=\"colab-df-convert\" onclick=\"convertToInteractive('df-29d788f0-da4c-48bb-b79c-86fd940da438')\"\n",
              "            title=\"Convert this dataframe to an interactive table.\"\n",
              "            style=\"display:none;\">\n",
              "\n",
              "  <svg xmlns=\"http://www.w3.org/2000/svg\" height=\"24px\" viewBox=\"0 -960 960 960\">\n",
              "    <path d=\"M120-120v-720h720v720H120Zm60-500h600v-160H180v160Zm220 220h160v-160H400v160Zm0 220h160v-160H400v160ZM180-400h160v-160H180v160Zm440 0h160v-160H620v160ZM180-180h160v-160H180v160Zm440 0h160v-160H620v160Z\"/>\n",
              "  </svg>\n",
              "    </button>\n",
              "\n",
              "  <style>\n",
              "    .colab-df-container {\n",
              "      display:flex;\n",
              "      gap: 12px;\n",
              "    }\n",
              "\n",
              "    .colab-df-convert {\n",
              "      background-color: #E8F0FE;\n",
              "      border: none;\n",
              "      border-radius: 50%;\n",
              "      cursor: pointer;\n",
              "      display: none;\n",
              "      fill: #1967D2;\n",
              "      height: 32px;\n",
              "      padding: 0 0 0 0;\n",
              "      width: 32px;\n",
              "    }\n",
              "\n",
              "    .colab-df-convert:hover {\n",
              "      background-color: #E2EBFA;\n",
              "      box-shadow: 0px 1px 2px rgba(60, 64, 67, 0.3), 0px 1px 3px 1px rgba(60, 64, 67, 0.15);\n",
              "      fill: #174EA6;\n",
              "    }\n",
              "\n",
              "    .colab-df-buttons div {\n",
              "      margin-bottom: 4px;\n",
              "    }\n",
              "\n",
              "    [theme=dark] .colab-df-convert {\n",
              "      background-color: #3B4455;\n",
              "      fill: #D2E3FC;\n",
              "    }\n",
              "\n",
              "    [theme=dark] .colab-df-convert:hover {\n",
              "      background-color: #434B5C;\n",
              "      box-shadow: 0px 1px 3px 1px rgba(0, 0, 0, 0.15);\n",
              "      filter: drop-shadow(0px 1px 2px rgba(0, 0, 0, 0.3));\n",
              "      fill: #FFFFFF;\n",
              "    }\n",
              "  </style>\n",
              "\n",
              "    <script>\n",
              "      const buttonEl =\n",
              "        document.querySelector('#df-29d788f0-da4c-48bb-b79c-86fd940da438 button.colab-df-convert');\n",
              "      buttonEl.style.display =\n",
              "        google.colab.kernel.accessAllowed ? 'block' : 'none';\n",
              "\n",
              "      async function convertToInteractive(key) {\n",
              "        const element = document.querySelector('#df-29d788f0-da4c-48bb-b79c-86fd940da438');\n",
              "        const dataTable =\n",
              "          await google.colab.kernel.invokeFunction('convertToInteractive',\n",
              "                                                    [key], {});\n",
              "        if (!dataTable) return;\n",
              "\n",
              "        const docLinkHtml = 'Like what you see? Visit the ' +\n",
              "          '<a target=\"_blank\" href=https://colab.research.google.com/notebooks/data_table.ipynb>data table notebook</a>'\n",
              "          + ' to learn more about interactive tables.';\n",
              "        element.innerHTML = '';\n",
              "        dataTable['output_type'] = 'display_data';\n",
              "        await google.colab.output.renderOutput(dataTable, element);\n",
              "        const docLink = document.createElement('div');\n",
              "        docLink.innerHTML = docLinkHtml;\n",
              "        element.appendChild(docLink);\n",
              "      }\n",
              "    </script>\n",
              "  </div>\n",
              "\n",
              "\n",
              "<div id=\"df-7fb4c23b-4733-404b-8f86-c2658fbb16b3\">\n",
              "  <button class=\"colab-df-quickchart\" onclick=\"quickchart('df-7fb4c23b-4733-404b-8f86-c2658fbb16b3')\"\n",
              "            title=\"Suggest charts.\"\n",
              "            style=\"display:none;\">\n",
              "\n",
              "<svg xmlns=\"http://www.w3.org/2000/svg\" height=\"24px\"viewBox=\"0 0 24 24\"\n",
              "     width=\"24px\">\n",
              "    <g>\n",
              "        <path d=\"M19 3H5c-1.1 0-2 .9-2 2v14c0 1.1.9 2 2 2h14c1.1 0 2-.9 2-2V5c0-1.1-.9-2-2-2zM9 17H7v-7h2v7zm4 0h-2V7h2v10zm4 0h-2v-4h2v4z\"/>\n",
              "    </g>\n",
              "</svg>\n",
              "  </button>\n",
              "\n",
              "<style>\n",
              "  .colab-df-quickchart {\n",
              "      --bg-color: #E8F0FE;\n",
              "      --fill-color: #1967D2;\n",
              "      --hover-bg-color: #E2EBFA;\n",
              "      --hover-fill-color: #174EA6;\n",
              "      --disabled-fill-color: #AAA;\n",
              "      --disabled-bg-color: #DDD;\n",
              "  }\n",
              "\n",
              "  [theme=dark] .colab-df-quickchart {\n",
              "      --bg-color: #3B4455;\n",
              "      --fill-color: #D2E3FC;\n",
              "      --hover-bg-color: #434B5C;\n",
              "      --hover-fill-color: #FFFFFF;\n",
              "      --disabled-bg-color: #3B4455;\n",
              "      --disabled-fill-color: #666;\n",
              "  }\n",
              "\n",
              "  .colab-df-quickchart {\n",
              "    background-color: var(--bg-color);\n",
              "    border: none;\n",
              "    border-radius: 50%;\n",
              "    cursor: pointer;\n",
              "    display: none;\n",
              "    fill: var(--fill-color);\n",
              "    height: 32px;\n",
              "    padding: 0;\n",
              "    width: 32px;\n",
              "  }\n",
              "\n",
              "  .colab-df-quickchart:hover {\n",
              "    background-color: var(--hover-bg-color);\n",
              "    box-shadow: 0 1px 2px rgba(60, 64, 67, 0.3), 0 1px 3px 1px rgba(60, 64, 67, 0.15);\n",
              "    fill: var(--button-hover-fill-color);\n",
              "  }\n",
              "\n",
              "  .colab-df-quickchart-complete:disabled,\n",
              "  .colab-df-quickchart-complete:disabled:hover {\n",
              "    background-color: var(--disabled-bg-color);\n",
              "    fill: var(--disabled-fill-color);\n",
              "    box-shadow: none;\n",
              "  }\n",
              "\n",
              "  .colab-df-spinner {\n",
              "    border: 2px solid var(--fill-color);\n",
              "    border-color: transparent;\n",
              "    border-bottom-color: var(--fill-color);\n",
              "    animation:\n",
              "      spin 1s steps(1) infinite;\n",
              "  }\n",
              "\n",
              "  @keyframes spin {\n",
              "    0% {\n",
              "      border-color: transparent;\n",
              "      border-bottom-color: var(--fill-color);\n",
              "      border-left-color: var(--fill-color);\n",
              "    }\n",
              "    20% {\n",
              "      border-color: transparent;\n",
              "      border-left-color: var(--fill-color);\n",
              "      border-top-color: var(--fill-color);\n",
              "    }\n",
              "    30% {\n",
              "      border-color: transparent;\n",
              "      border-left-color: var(--fill-color);\n",
              "      border-top-color: var(--fill-color);\n",
              "      border-right-color: var(--fill-color);\n",
              "    }\n",
              "    40% {\n",
              "      border-color: transparent;\n",
              "      border-right-color: var(--fill-color);\n",
              "      border-top-color: var(--fill-color);\n",
              "    }\n",
              "    60% {\n",
              "      border-color: transparent;\n",
              "      border-right-color: var(--fill-color);\n",
              "    }\n",
              "    80% {\n",
              "      border-color: transparent;\n",
              "      border-right-color: var(--fill-color);\n",
              "      border-bottom-color: var(--fill-color);\n",
              "    }\n",
              "    90% {\n",
              "      border-color: transparent;\n",
              "      border-bottom-color: var(--fill-color);\n",
              "    }\n",
              "  }\n",
              "</style>\n",
              "\n",
              "  <script>\n",
              "    async function quickchart(key) {\n",
              "      const quickchartButtonEl =\n",
              "        document.querySelector('#' + key + ' button');\n",
              "      quickchartButtonEl.disabled = true;  // To prevent multiple clicks.\n",
              "      quickchartButtonEl.classList.add('colab-df-spinner');\n",
              "      try {\n",
              "        const charts = await google.colab.kernel.invokeFunction(\n",
              "            'suggestCharts', [key], {});\n",
              "      } catch (error) {\n",
              "        console.error('Error during call to suggestCharts:', error);\n",
              "      }\n",
              "      quickchartButtonEl.classList.remove('colab-df-spinner');\n",
              "      quickchartButtonEl.classList.add('colab-df-quickchart-complete');\n",
              "    }\n",
              "    (() => {\n",
              "      let quickchartButtonEl =\n",
              "        document.querySelector('#df-7fb4c23b-4733-404b-8f86-c2658fbb16b3 button');\n",
              "      quickchartButtonEl.style.display =\n",
              "        google.colab.kernel.accessAllowed ? 'block' : 'none';\n",
              "    })();\n",
              "  </script>\n",
              "</div>\n",
              "    </div>\n",
              "  </div>\n"
            ]
          },
          "metadata": {},
          "execution_count": 45
        }
      ]
    },
    {
      "cell_type": "markdown",
      "source": [
        "### 2.1 Wrangling"
      ],
      "metadata": {
        "id": "jSLEuY9Cwhzb"
      }
    },
    {
      "cell_type": "code",
      "source": [
        "df_conflito.shape # quantidade de linhas e colunas"
      ],
      "metadata": {
        "colab": {
          "base_uri": "https://localhost:8080/"
        },
        "id": "RwF8GkQcwviH",
        "outputId": "ac81238e-8d63-4518-9ed9-ead34348d776"
      },
      "execution_count": 46,
      "outputs": [
        {
          "output_type": "execute_result",
          "data": {
            "text/plain": [
              "(11124, 7)"
            ]
          },
          "metadata": {},
          "execution_count": 46
        }
      ]
    },
    {
      "cell_type": "code",
      "source": [
        "df_conflito.info()"
      ],
      "metadata": {
        "colab": {
          "base_uri": "https://localhost:8080/"
        },
        "id": "OvWSeqAuw1cA",
        "outputId": "0450c11e-1b93-4b53-8f53-bf39e9aa8b8a"
      },
      "execution_count": 47,
      "outputs": [
        {
          "output_type": "stream",
          "name": "stdout",
          "text": [
            "<class 'pandas.core.frame.DataFrame'>\n",
            "RangeIndex: 11124 entries, 0 to 11123\n",
            "Data columns (total 7 columns):\n",
            " #   Column              Non-Null Count  Dtype         \n",
            "---  ------              --------------  -----         \n",
            " 0   date_of_event       11124 non-null  datetime64[ns]\n",
            " 1   age                 10995 non-null  float64       \n",
            " 2   citizenship         11124 non-null  object        \n",
            " 3   gender              11104 non-null  object        \n",
            " 4   place_of_residence  11056 non-null  object        \n",
            " 5   type_of_injury      10833 non-null  object        \n",
            " 6   killed_by           11124 non-null  object        \n",
            "dtypes: datetime64[ns](1), float64(1), object(5)\n",
            "memory usage: 608.5+ KB\n"
          ]
        }
      ]
    },
    {
      "cell_type": "markdown",
      "source": [
        "Vamos começar tratando os dados faltantes, a estratégia será a de preencher os buracos com o valor anterior válido mais próximo."
      ],
      "metadata": {
        "id": "hgZO-Jl0xBKE"
      }
    },
    {
      "cell_type": "code",
      "source": [
        "df_conflito = df_conflito.fillna(method='ffill')"
      ],
      "metadata": {
        "id": "qbHs-fjqxA5m"
      },
      "execution_count": 48,
      "outputs": []
    },
    {
      "cell_type": "markdown",
      "source": [
        "Vamos também filtrar a base de dados de acordo com a coluna `date_of_event` ."
      ],
      "metadata": {
        "id": "m0DcRF_Uxcca"
      }
    },
    {
      "cell_type": "code",
      "source": [
        "df_conflito['month'] = df_conflito['date_of_event'].apply(lambda date: date.strftime('%Y-%m'))\n",
        "df_conflito['year']  = df_conflito['date_of_event'].apply(lambda date: date.strftime('%Y'))"
      ],
      "metadata": {
        "id": "uLcAlsiq0ia_"
      },
      "execution_count": 49,
      "outputs": []
    },
    {
      "cell_type": "markdown",
      "source": [
        "Agora, vamos alterar o nome das colunas."
      ],
      "metadata": {
        "id": "ZIe4D7ggxZg0"
      }
    },
    {
      "cell_type": "code",
      "source": [
        "israel_palestine = df_conflito.rename(\n",
        "  columns={\n",
        "    'date_of_event': 'data',\n",
        "    'age': 'idade',\n",
        "    'citizenship': 'cidadania',\n",
        "    'gender': 'sexo',\n",
        "    'place_of_residence': 'local_de_residencia',\n",
        "    'type_of_injury': 'tipo_de_injuria',\n",
        "    'killed_by': 'morto_por',\n",
        "  }\n",
        ")"
      ],
      "metadata": {
        "id": "XY5SXwBlI49w"
      },
      "execution_count": 50,
      "outputs": []
    },
    {
      "cell_type": "code",
      "source": [
        "israel_palestine.info()"
      ],
      "metadata": {
        "colab": {
          "base_uri": "https://localhost:8080/"
        },
        "id": "bcTXoT04zD2r",
        "outputId": "1002fcad-4921-4abd-a110-55f0b57eb022"
      },
      "execution_count": 51,
      "outputs": [
        {
          "output_type": "stream",
          "name": "stdout",
          "text": [
            "<class 'pandas.core.frame.DataFrame'>\n",
            "RangeIndex: 11124 entries, 0 to 11123\n",
            "Data columns (total 9 columns):\n",
            " #   Column               Non-Null Count  Dtype         \n",
            "---  ------               --------------  -----         \n",
            " 0   data                 11124 non-null  datetime64[ns]\n",
            " 1   idade                11124 non-null  float64       \n",
            " 2   cidadania            11124 non-null  object        \n",
            " 3   sexo                 11124 non-null  object        \n",
            " 4   local_de_residencia  11124 non-null  object        \n",
            " 5   tipo_de_injuria      11124 non-null  object        \n",
            " 6   morto_por            11124 non-null  object        \n",
            " 7   month                11124 non-null  object        \n",
            " 8   year                 11124 non-null  object        \n",
            "dtypes: datetime64[ns](1), float64(1), object(7)\n",
            "memory usage: 782.3+ KB\n"
          ]
        }
      ]
    },
    {
      "cell_type": "markdown",
      "source": [
        "Garantir o tipo do dado é fundamental para consistência da base de dados. Vamos fazer o *type casting* das colunas."
      ],
      "metadata": {
        "id": "oqOgBLRJy7Z_"
      }
    },
    {
      "cell_type": "code",
      "source": [
        "israel_palestine['idade'] = israel_palestine['idade'].astype('Int64')"
      ],
      "metadata": {
        "id": "6EmOFRnjy1R6"
      },
      "execution_count": 52,
      "outputs": []
    },
    {
      "cell_type": "markdown",
      "source": [
        "Conferindo o resultado final."
      ],
      "metadata": {
        "id": "q1770eCwzuJc"
      }
    },
    {
      "cell_type": "code",
      "source": [
        "israel_palestine.head()"
      ],
      "metadata": {
        "colab": {
          "base_uri": "https://localhost:8080/",
          "height": 206
        },
        "id": "_JdrpH82zav4",
        "outputId": "c44d0142-a7b2-4a35-87d1-f6222413c1b0"
      },
      "execution_count": 53,
      "outputs": [
        {
          "output_type": "execute_result",
          "data": {
            "text/plain": [
              "        data  idade    cidadania sexo local_de_residencia tipo_de_injuria  \\\n",
              "0 2023-09-24     32  Palestinian    M      Nur Shams R.C.         gunfire   \n",
              "1 2023-09-24     21  Palestinian    M      Nur Shams R.C.         gunfire   \n",
              "2 2023-09-22     16  Palestinian    M            al-Yamun         gunfire   \n",
              "3 2023-09-20     19  Palestinian    M   'Aqbat Jaber R.C.         gunfire   \n",
              "4 2023-09-19     15  Palestinian    M               Jenin         gunfire   \n",
              "\n",
              "                 morto_por    month  year  \n",
              "0  Israeli security forces  2023-09  2023  \n",
              "1  Israeli security forces  2023-09  2023  \n",
              "2  Israeli security forces  2023-09  2023  \n",
              "3  Israeli security forces  2023-09  2023  \n",
              "4  Israeli security forces  2023-09  2023  "
            ],
            "text/html": [
              "\n",
              "  <div id=\"df-f43798a3-0630-45c0-83fd-bf28db14e4da\" class=\"colab-df-container\">\n",
              "    <div>\n",
              "<style scoped>\n",
              "    .dataframe tbody tr th:only-of-type {\n",
              "        vertical-align: middle;\n",
              "    }\n",
              "\n",
              "    .dataframe tbody tr th {\n",
              "        vertical-align: top;\n",
              "    }\n",
              "\n",
              "    .dataframe thead th {\n",
              "        text-align: right;\n",
              "    }\n",
              "</style>\n",
              "<table border=\"1\" class=\"dataframe\">\n",
              "  <thead>\n",
              "    <tr style=\"text-align: right;\">\n",
              "      <th></th>\n",
              "      <th>data</th>\n",
              "      <th>idade</th>\n",
              "      <th>cidadania</th>\n",
              "      <th>sexo</th>\n",
              "      <th>local_de_residencia</th>\n",
              "      <th>tipo_de_injuria</th>\n",
              "      <th>morto_por</th>\n",
              "      <th>month</th>\n",
              "      <th>year</th>\n",
              "    </tr>\n",
              "  </thead>\n",
              "  <tbody>\n",
              "    <tr>\n",
              "      <th>0</th>\n",
              "      <td>2023-09-24</td>\n",
              "      <td>32</td>\n",
              "      <td>Palestinian</td>\n",
              "      <td>M</td>\n",
              "      <td>Nur Shams R.C.</td>\n",
              "      <td>gunfire</td>\n",
              "      <td>Israeli security forces</td>\n",
              "      <td>2023-09</td>\n",
              "      <td>2023</td>\n",
              "    </tr>\n",
              "    <tr>\n",
              "      <th>1</th>\n",
              "      <td>2023-09-24</td>\n",
              "      <td>21</td>\n",
              "      <td>Palestinian</td>\n",
              "      <td>M</td>\n",
              "      <td>Nur Shams R.C.</td>\n",
              "      <td>gunfire</td>\n",
              "      <td>Israeli security forces</td>\n",
              "      <td>2023-09</td>\n",
              "      <td>2023</td>\n",
              "    </tr>\n",
              "    <tr>\n",
              "      <th>2</th>\n",
              "      <td>2023-09-22</td>\n",
              "      <td>16</td>\n",
              "      <td>Palestinian</td>\n",
              "      <td>M</td>\n",
              "      <td>al-Yamun</td>\n",
              "      <td>gunfire</td>\n",
              "      <td>Israeli security forces</td>\n",
              "      <td>2023-09</td>\n",
              "      <td>2023</td>\n",
              "    </tr>\n",
              "    <tr>\n",
              "      <th>3</th>\n",
              "      <td>2023-09-20</td>\n",
              "      <td>19</td>\n",
              "      <td>Palestinian</td>\n",
              "      <td>M</td>\n",
              "      <td>'Aqbat Jaber R.C.</td>\n",
              "      <td>gunfire</td>\n",
              "      <td>Israeli security forces</td>\n",
              "      <td>2023-09</td>\n",
              "      <td>2023</td>\n",
              "    </tr>\n",
              "    <tr>\n",
              "      <th>4</th>\n",
              "      <td>2023-09-19</td>\n",
              "      <td>15</td>\n",
              "      <td>Palestinian</td>\n",
              "      <td>M</td>\n",
              "      <td>Jenin</td>\n",
              "      <td>gunfire</td>\n",
              "      <td>Israeli security forces</td>\n",
              "      <td>2023-09</td>\n",
              "      <td>2023</td>\n",
              "    </tr>\n",
              "  </tbody>\n",
              "</table>\n",
              "</div>\n",
              "    <div class=\"colab-df-buttons\">\n",
              "\n",
              "  <div class=\"colab-df-container\">\n",
              "    <button class=\"colab-df-convert\" onclick=\"convertToInteractive('df-f43798a3-0630-45c0-83fd-bf28db14e4da')\"\n",
              "            title=\"Convert this dataframe to an interactive table.\"\n",
              "            style=\"display:none;\">\n",
              "\n",
              "  <svg xmlns=\"http://www.w3.org/2000/svg\" height=\"24px\" viewBox=\"0 -960 960 960\">\n",
              "    <path d=\"M120-120v-720h720v720H120Zm60-500h600v-160H180v160Zm220 220h160v-160H400v160Zm0 220h160v-160H400v160ZM180-400h160v-160H180v160Zm440 0h160v-160H620v160ZM180-180h160v-160H180v160Zm440 0h160v-160H620v160Z\"/>\n",
              "  </svg>\n",
              "    </button>\n",
              "\n",
              "  <style>\n",
              "    .colab-df-container {\n",
              "      display:flex;\n",
              "      gap: 12px;\n",
              "    }\n",
              "\n",
              "    .colab-df-convert {\n",
              "      background-color: #E8F0FE;\n",
              "      border: none;\n",
              "      border-radius: 50%;\n",
              "      cursor: pointer;\n",
              "      display: none;\n",
              "      fill: #1967D2;\n",
              "      height: 32px;\n",
              "      padding: 0 0 0 0;\n",
              "      width: 32px;\n",
              "    }\n",
              "\n",
              "    .colab-df-convert:hover {\n",
              "      background-color: #E2EBFA;\n",
              "      box-shadow: 0px 1px 2px rgba(60, 64, 67, 0.3), 0px 1px 3px 1px rgba(60, 64, 67, 0.15);\n",
              "      fill: #174EA6;\n",
              "    }\n",
              "\n",
              "    .colab-df-buttons div {\n",
              "      margin-bottom: 4px;\n",
              "    }\n",
              "\n",
              "    [theme=dark] .colab-df-convert {\n",
              "      background-color: #3B4455;\n",
              "      fill: #D2E3FC;\n",
              "    }\n",
              "\n",
              "    [theme=dark] .colab-df-convert:hover {\n",
              "      background-color: #434B5C;\n",
              "      box-shadow: 0px 1px 3px 1px rgba(0, 0, 0, 0.15);\n",
              "      filter: drop-shadow(0px 1px 2px rgba(0, 0, 0, 0.3));\n",
              "      fill: #FFFFFF;\n",
              "    }\n",
              "  </style>\n",
              "\n",
              "    <script>\n",
              "      const buttonEl =\n",
              "        document.querySelector('#df-f43798a3-0630-45c0-83fd-bf28db14e4da button.colab-df-convert');\n",
              "      buttonEl.style.display =\n",
              "        google.colab.kernel.accessAllowed ? 'block' : 'none';\n",
              "\n",
              "      async function convertToInteractive(key) {\n",
              "        const element = document.querySelector('#df-f43798a3-0630-45c0-83fd-bf28db14e4da');\n",
              "        const dataTable =\n",
              "          await google.colab.kernel.invokeFunction('convertToInteractive',\n",
              "                                                    [key], {});\n",
              "        if (!dataTable) return;\n",
              "\n",
              "        const docLinkHtml = 'Like what you see? Visit the ' +\n",
              "          '<a target=\"_blank\" href=https://colab.research.google.com/notebooks/data_table.ipynb>data table notebook</a>'\n",
              "          + ' to learn more about interactive tables.';\n",
              "        element.innerHTML = '';\n",
              "        dataTable['output_type'] = 'display_data';\n",
              "        await google.colab.output.renderOutput(dataTable, element);\n",
              "        const docLink = document.createElement('div');\n",
              "        docLink.innerHTML = docLinkHtml;\n",
              "        element.appendChild(docLink);\n",
              "      }\n",
              "    </script>\n",
              "  </div>\n",
              "\n",
              "\n",
              "<div id=\"df-d7464ef7-358f-493b-8b33-63ce1fc9e443\">\n",
              "  <button class=\"colab-df-quickchart\" onclick=\"quickchart('df-d7464ef7-358f-493b-8b33-63ce1fc9e443')\"\n",
              "            title=\"Suggest charts.\"\n",
              "            style=\"display:none;\">\n",
              "\n",
              "<svg xmlns=\"http://www.w3.org/2000/svg\" height=\"24px\"viewBox=\"0 0 24 24\"\n",
              "     width=\"24px\">\n",
              "    <g>\n",
              "        <path d=\"M19 3H5c-1.1 0-2 .9-2 2v14c0 1.1.9 2 2 2h14c1.1 0 2-.9 2-2V5c0-1.1-.9-2-2-2zM9 17H7v-7h2v7zm4 0h-2V7h2v10zm4 0h-2v-4h2v4z\"/>\n",
              "    </g>\n",
              "</svg>\n",
              "  </button>\n",
              "\n",
              "<style>\n",
              "  .colab-df-quickchart {\n",
              "      --bg-color: #E8F0FE;\n",
              "      --fill-color: #1967D2;\n",
              "      --hover-bg-color: #E2EBFA;\n",
              "      --hover-fill-color: #174EA6;\n",
              "      --disabled-fill-color: #AAA;\n",
              "      --disabled-bg-color: #DDD;\n",
              "  }\n",
              "\n",
              "  [theme=dark] .colab-df-quickchart {\n",
              "      --bg-color: #3B4455;\n",
              "      --fill-color: #D2E3FC;\n",
              "      --hover-bg-color: #434B5C;\n",
              "      --hover-fill-color: #FFFFFF;\n",
              "      --disabled-bg-color: #3B4455;\n",
              "      --disabled-fill-color: #666;\n",
              "  }\n",
              "\n",
              "  .colab-df-quickchart {\n",
              "    background-color: var(--bg-color);\n",
              "    border: none;\n",
              "    border-radius: 50%;\n",
              "    cursor: pointer;\n",
              "    display: none;\n",
              "    fill: var(--fill-color);\n",
              "    height: 32px;\n",
              "    padding: 0;\n",
              "    width: 32px;\n",
              "  }\n",
              "\n",
              "  .colab-df-quickchart:hover {\n",
              "    background-color: var(--hover-bg-color);\n",
              "    box-shadow: 0 1px 2px rgba(60, 64, 67, 0.3), 0 1px 3px 1px rgba(60, 64, 67, 0.15);\n",
              "    fill: var(--button-hover-fill-color);\n",
              "  }\n",
              "\n",
              "  .colab-df-quickchart-complete:disabled,\n",
              "  .colab-df-quickchart-complete:disabled:hover {\n",
              "    background-color: var(--disabled-bg-color);\n",
              "    fill: var(--disabled-fill-color);\n",
              "    box-shadow: none;\n",
              "  }\n",
              "\n",
              "  .colab-df-spinner {\n",
              "    border: 2px solid var(--fill-color);\n",
              "    border-color: transparent;\n",
              "    border-bottom-color: var(--fill-color);\n",
              "    animation:\n",
              "      spin 1s steps(1) infinite;\n",
              "  }\n",
              "\n",
              "  @keyframes spin {\n",
              "    0% {\n",
              "      border-color: transparent;\n",
              "      border-bottom-color: var(--fill-color);\n",
              "      border-left-color: var(--fill-color);\n",
              "    }\n",
              "    20% {\n",
              "      border-color: transparent;\n",
              "      border-left-color: var(--fill-color);\n",
              "      border-top-color: var(--fill-color);\n",
              "    }\n",
              "    30% {\n",
              "      border-color: transparent;\n",
              "      border-left-color: var(--fill-color);\n",
              "      border-top-color: var(--fill-color);\n",
              "      border-right-color: var(--fill-color);\n",
              "    }\n",
              "    40% {\n",
              "      border-color: transparent;\n",
              "      border-right-color: var(--fill-color);\n",
              "      border-top-color: var(--fill-color);\n",
              "    }\n",
              "    60% {\n",
              "      border-color: transparent;\n",
              "      border-right-color: var(--fill-color);\n",
              "    }\n",
              "    80% {\n",
              "      border-color: transparent;\n",
              "      border-right-color: var(--fill-color);\n",
              "      border-bottom-color: var(--fill-color);\n",
              "    }\n",
              "    90% {\n",
              "      border-color: transparent;\n",
              "      border-bottom-color: var(--fill-color);\n",
              "    }\n",
              "  }\n",
              "</style>\n",
              "\n",
              "  <script>\n",
              "    async function quickchart(key) {\n",
              "      const quickchartButtonEl =\n",
              "        document.querySelector('#' + key + ' button');\n",
              "      quickchartButtonEl.disabled = true;  // To prevent multiple clicks.\n",
              "      quickchartButtonEl.classList.add('colab-df-spinner');\n",
              "      try {\n",
              "        const charts = await google.colab.kernel.invokeFunction(\n",
              "            'suggestCharts', [key], {});\n",
              "      } catch (error) {\n",
              "        console.error('Error during call to suggestCharts:', error);\n",
              "      }\n",
              "      quickchartButtonEl.classList.remove('colab-df-spinner');\n",
              "      quickchartButtonEl.classList.add('colab-df-quickchart-complete');\n",
              "    }\n",
              "    (() => {\n",
              "      let quickchartButtonEl =\n",
              "        document.querySelector('#df-d7464ef7-358f-493b-8b33-63ce1fc9e443 button');\n",
              "      quickchartButtonEl.style.display =\n",
              "        google.colab.kernel.accessAllowed ? 'block' : 'none';\n",
              "    })();\n",
              "  </script>\n",
              "</div>\n",
              "    </div>\n",
              "  </div>\n"
            ]
          },
          "metadata": {},
          "execution_count": 53
        }
      ]
    },
    {
      "cell_type": "markdown",
      "source": [
        "## 3\\. Visualização dos Dados"
      ],
      "metadata": {
        "id": "BEq6x2Ztz7Rf"
      }
    },
    {
      "cell_type": "markdown",
      "source": [
        "#### **Distribuição entre Sexo e Idade das vítimas**"
      ],
      "metadata": {
        "id": "YdPV9gs5FUkY"
      }
    },
    {
      "cell_type": "code",
      "source": [
        "fig, axes = plt.subplots(1, 2, figsize = (20, 6),dpi=200)\n",
        "sns.boxplot(data=israel_palestine,x='sexo',y='idade',ax=axes[0]).set_title('Sexo vs Idade')\n",
        "sns.countplot(data=israel_palestine,x='sexo',ax=axes[1],palette='icefire').set_title('Count plot For Sex')\n",
        "plt.show()"
      ],
      "metadata": {
        "colab": {
          "base_uri": "https://localhost:8080/",
          "height": 476
        },
        "id": "47jhSRXo0L9s",
        "outputId": "5ea0b6eb-3708-4141-f97f-6ae449cf4f62"
      },
      "execution_count": 54,
      "outputs": [
        {
          "output_type": "display_data",
          "data": {
            "text/plain": [
              "<Figure size 4000x1200 with 2 Axes>"
            ],
            "image/png": "[encoded data removed]"
          },
          "metadata": {}
        }
      ]
    },
    {
      "cell_type": "markdown",
      "source": [
        "O gráfico ilustra a distribuição por gêneros e os **outliers** das fatalidades:\n",
        "\n",
        "* A maioria das vítimas fatais era do sexo masculino;\n",
        "* Maioria das vítimas masculinas tinham entre 20 a 30 anos;\n",
        "* A maioria das vítimas do sexo feminino se concentra entre 20 a 50 anos;\n",
        "\n",
        "---"
      ],
      "metadata": {
        "id": "6kFvoNmZDhXh"
      }
    },
    {
      "cell_type": "markdown",
      "source": [
        "#### **Relação entre idade e entidade responsável**"
      ],
      "metadata": {
        "id": "OOfBR4x4Gy6R"
      }
    },
    {
      "cell_type": "code",
      "source": [
        "fig, axes = plt.subplots(1, 2, figsize = (20, 6),dpi=200)\n",
        "sns.boxplot(data=israel_palestine,x='idade',y='morto_por',ax=axes[0]).set_title('Relação Entre idade e Entidade Responsável')\n",
        "sns.countplot(data=israel_palestine,x='morto_por',ax=axes[1], palette='icefire').set_title('Entidade Responsável Pelas mortes')\n",
        "plt.show()"
      ],
      "metadata": {
        "colab": {
          "base_uri": "https://localhost:8080/",
          "height": 445
        },
        "id": "FTykwiyT2WXc",
        "outputId": "93d1b014-cae5-4db0-83f3-6c182d8726b5"
      },
      "execution_count": 55,
      "outputs": [
        {
          "output_type": "display_data",
          "data": {
            "text/plain": [
              "<Figure size 4000x1200 with 2 Axes>"
            ],
            "image/png": "[encoded data removed]"
          },
          "metadata": {}
        }
      ]
    },
    {
      "cell_type": "markdown",
      "source": [
        "**O gráfico exibe a distribuição das entidades responsáveis pelas fatalidades e se exite alguma correlação com a idade**:\n",
        "\n",
        "* Os incidentes fatais causado por civis palestinos tem a maior concentração em 20 a 50 anos, onde se encontra a maior parte de vítimas do sexo femininio;\n",
        "* As forças de segurança israelenses são responsáveis por uma maioria significativa das mortes.\n",
        "---"
      ],
      "metadata": {
        "id": "lOISqJ5AIo4a"
      }
    },
    {
      "cell_type": "markdown",
      "source": [
        "#### **Visualizando o top 15 locais comuns de residência entre as vítimas**"
      ],
      "metadata": {
        "id": "8s_U1DMjRkuN"
      }
    },
    {
      "cell_type": "code",
      "source": [
        "residence_distribution = israel_palestine['local_de_residencia'].value_counts().head(15)\n",
        "\n",
        "fig1 = px.bar(\n",
        "    x=residence_distribution.index,\n",
        "    y=residence_distribution.values,\n",
        "    title='Top 15 locais comuns de residência entre as vítimas',\n",
        "    labels={'x': 'Local de residência', 'y': 'Número de Fatalidades'},\n",
        "    color=residence_distribution.index,\n",
        "    color_discrete_sequence=px.colors.qualitative.Dark24,\n",
        ")\n",
        "\n",
        "\n",
        "fig1.update_layout(xaxis_tickangle=-40, xaxis_title='Local de residência', yaxis_title='Número de Fatalidades')\n",
        "\n",
        "fig1.show()"
      ],
      "metadata": {
        "colab": {
          "base_uri": "https://localhost:8080/",
          "height": 542
        },
        "id": "O_UClVnDMB7U",
        "outputId": "561ff62c-1af6-4b43-d565-67f5ad029702"
      },
      "execution_count": 56,
      "outputs": [
        {
          "output_type": "display_data",
          "data": {
            "text/html": [
              "<html>\n",
              "<head><meta charset=\"utf-8\" /></head>\n",
              "<body>\n",
              "    <div>            <script src=\"https://cdnjs.cloudflare.com/ajax/libs/mathjax/2.7.5/MathJax.js?config=TeX-AMS-MML_SVG\"></script><script type=\"text/javascript\">if (window.MathJax && window.MathJax.Hub && window.MathJax.Hub.Config) {window.MathJax.Hub.Config({SVG: {font: \"STIX-Web\"}});}</script>                <script type=\"text/javascript\">window.PlotlyConfig = {MathJaxConfig: 'local'};</script>\n",
              "        <script charset=\"utf-8\" src=\"https://cdn.plot.ly/plotly-2.24.1.min.js\"></script>                <div id=\"57a3123d-91b5-419f-a5a8-1a30d88983ae\" class=\"plotly-graph-div\" style=\"height:525px; width:100%;\"></div>            <script type=\"text/javascript\">                                    window.PLOTLYENV=window.PLOTLYENV || {};                                    if (document.getElementById(\"57a3123d-91b5-419f-a5a8-1a30d88983ae\")) {                    Plotly.newPlot(                        \"57a3123d-91b5-419f-a5a8-1a30d88983ae\",                        [{\"alignmentgroup\":\"True\",\"hovertemplate\":\"color=Gaza city\\u003cbr\\u003eLocal de resid\\u00eancia=%{x}\\u003cbr\\u003eN\\u00famero de Fatalidades=%{y}\\u003cextra\\u003e\\u003c\\u002fextra\\u003e\",\"legendgroup\":\"Gaza city\",\"marker\":{\"color\":\"#2E91E5\",\"pattern\":{\"shape\":\"\"}},\"name\":\"Gaza city\",\"offsetgroup\":\"Gaza city\",\"orientation\":\"v\",\"showlegend\":true,\"textposition\":\"auto\",\"x\":[\"Gaza city\"],\"xaxis\":\"x\",\"y\":[2291],\"yaxis\":\"y\",\"type\":\"bar\"},{\"alignmentgroup\":\"True\",\"hovertemplate\":\"color=Rafah\\u003cbr\\u003eLocal de resid\\u00eancia=%{x}\\u003cbr\\u003eN\\u00famero de Fatalidades=%{y}\\u003cextra\\u003e\\u003c\\u002fextra\\u003e\",\"legendgroup\":\"Rafah\",\"marker\":{\"color\":\"#E15F99\",\"pattern\":{\"shape\":\"\"}},\"name\":\"Rafah\",\"offsetgroup\":\"Rafah\",\"orientation\":\"v\",\"showlegend\":true,\"textposition\":\"auto\",\"x\":[\"Rafah\"],\"xaxis\":\"x\",\"y\":[896],\"yaxis\":\"y\",\"type\":\"bar\"},{\"alignmentgroup\":\"True\",\"hovertemplate\":\"color=Khan Yunis\\u003cbr\\u003eLocal de resid\\u00eancia=%{x}\\u003cbr\\u003eN\\u00famero de Fatalidades=%{y}\\u003cextra\\u003e\\u003c\\u002fextra\\u003e\",\"legendgroup\":\"Khan Yunis\",\"marker\":{\"color\":\"#1CA71C\",\"pattern\":{\"shape\":\"\"}},\"name\":\"Khan Yunis\",\"offsetgroup\":\"Khan Yunis\",\"orientation\":\"v\",\"showlegend\":true,\"textposition\":\"auto\",\"x\":[\"Khan Yunis\"],\"xaxis\":\"x\",\"y\":[719],\"yaxis\":\"y\",\"type\":\"bar\"},{\"alignmentgroup\":\"True\",\"hovertemplate\":\"color=Jabalya R.C.\\u003cbr\\u003eLocal de resid\\u00eancia=%{x}\\u003cbr\\u003eN\\u00famero de Fatalidades=%{y}\\u003cextra\\u003e\\u003c\\u002fextra\\u003e\",\"legendgroup\":\"Jabalya R.C.\",\"marker\":{\"color\":\"#FB0D0D\",\"pattern\":{\"shape\":\"\"}},\"name\":\"Jabalya R.C.\",\"offsetgroup\":\"Jabalya R.C.\",\"orientation\":\"v\",\"showlegend\":true,\"textposition\":\"auto\",\"x\":[\"Jabalya R.C.\"],\"xaxis\":\"x\",\"y\":[567],\"yaxis\":\"y\",\"type\":\"bar\"},{\"alignmentgroup\":\"True\",\"hovertemplate\":\"color=Beit Lahiya\\u003cbr\\u003eLocal de resid\\u00eancia=%{x}\\u003cbr\\u003eN\\u00famero de Fatalidades=%{y}\\u003cextra\\u003e\\u003c\\u002fextra\\u003e\",\"legendgroup\":\"Beit Lahiya\",\"marker\":{\"color\":\"#DA16FF\",\"pattern\":{\"shape\":\"\"}},\"name\":\"Beit Lahiya\",\"offsetgroup\":\"Beit Lahiya\",\"orientation\":\"v\",\"showlegend\":true,\"textposition\":\"auto\",\"x\":[\"Beit Lahiya\"],\"xaxis\":\"x\",\"y\":[480],\"yaxis\":\"y\",\"type\":\"bar\"},{\"alignmentgroup\":\"True\",\"hovertemplate\":\"color=Jabalya\\u003cbr\\u003eLocal de resid\\u00eancia=%{x}\\u003cbr\\u003eN\\u00famero de Fatalidades=%{y}\\u003cextra\\u003e\\u003c\\u002fextra\\u003e\",\"legendgroup\":\"Jabalya\",\"marker\":{\"color\":\"#222A2A\",\"pattern\":{\"shape\":\"\"}},\"name\":\"Jabalya\",\"offsetgroup\":\"Jabalya\",\"orientation\":\"v\",\"showlegend\":true,\"textposition\":\"auto\",\"x\":[\"Jabalya\"],\"xaxis\":\"x\",\"y\":[384],\"yaxis\":\"y\",\"type\":\"bar\"},{\"alignmentgroup\":\"True\",\"hovertemplate\":\"color=Beit Hanun\\u003cbr\\u003eLocal de resid\\u00eancia=%{x}\\u003cbr\\u003eN\\u00famero de Fatalidades=%{y}\\u003cextra\\u003e\\u003c\\u002fextra\\u003e\",\"legendgroup\":\"Beit Hanun\",\"marker\":{\"color\":\"#B68100\",\"pattern\":{\"shape\":\"\"}},\"name\":\"Beit Hanun\",\"offsetgroup\":\"Beit Hanun\",\"orientation\":\"v\",\"showlegend\":true,\"textposition\":\"auto\",\"x\":[\"Beit Hanun\"],\"xaxis\":\"x\",\"y\":[352],\"yaxis\":\"y\",\"type\":\"bar\"},{\"alignmentgroup\":\"True\",\"hovertemplate\":\"color=Nablus\\u003cbr\\u003eLocal de resid\\u00eancia=%{x}\\u003cbr\\u003eN\\u00famero de Fatalidades=%{y}\\u003cextra\\u003e\\u003c\\u002fextra\\u003e\",\"legendgroup\":\"Nablus\",\"marker\":{\"color\":\"#750D86\",\"pattern\":{\"shape\":\"\"}},\"name\":\"Nablus\",\"offsetgroup\":\"Nablus\",\"orientation\":\"v\",\"showlegend\":true,\"textposition\":\"auto\",\"x\":[\"Nablus\"],\"xaxis\":\"x\",\"y\":[244],\"yaxis\":\"y\",\"type\":\"bar\"},{\"alignmentgroup\":\"True\",\"hovertemplate\":\"color=a-Nuseirat Camp\\u003cbr\\u003eLocal de resid\\u00eancia=%{x}\\u003cbr\\u003eN\\u00famero de Fatalidades=%{y}\\u003cextra\\u003e\\u003c\\u002fextra\\u003e\",\"legendgroup\":\"a-Nuseirat Camp\",\"marker\":{\"color\":\"#EB663B\",\"pattern\":{\"shape\":\"\"}},\"name\":\"a-Nuseirat Camp\",\"offsetgroup\":\"a-Nuseirat Camp\",\"orientation\":\"v\",\"showlegend\":true,\"textposition\":\"auto\",\"x\":[\"a-Nuseirat Camp\"],\"xaxis\":\"x\",\"y\":[240],\"yaxis\":\"y\",\"type\":\"bar\"},{\"alignmentgroup\":\"True\",\"hovertemplate\":\"color=al-Bureij R.C.\\u003cbr\\u003eLocal de resid\\u00eancia=%{x}\\u003cbr\\u003eN\\u00famero de Fatalidades=%{y}\\u003cextra\\u003e\\u003c\\u002fextra\\u003e\",\"legendgroup\":\"al-Bureij R.C.\",\"marker\":{\"color\":\"#511CFB\",\"pattern\":{\"shape\":\"\"}},\"name\":\"al-Bureij R.C.\",\"offsetgroup\":\"al-Bureij R.C.\",\"orientation\":\"v\",\"showlegend\":true,\"textposition\":\"auto\",\"x\":[\"al-Bureij R.C.\"],\"xaxis\":\"x\",\"y\":[230],\"yaxis\":\"y\",\"type\":\"bar\"},{\"alignmentgroup\":\"True\",\"hovertemplate\":\"color=Deir al-Balah\\u003cbr\\u003eLocal de resid\\u00eancia=%{x}\\u003cbr\\u003eN\\u00famero de Fatalidades=%{y}\\u003cextra\\u003e\\u003c\\u002fextra\\u003e\",\"legendgroup\":\"Deir al-Balah\",\"marker\":{\"color\":\"#00A08B\",\"pattern\":{\"shape\":\"\"}},\"name\":\"Deir al-Balah\",\"offsetgroup\":\"Deir al-Balah\",\"orientation\":\"v\",\"showlegend\":true,\"textposition\":\"auto\",\"x\":[\"Deir al-Balah\"],\"xaxis\":\"x\",\"y\":[207],\"yaxis\":\"y\",\"type\":\"bar\"},{\"alignmentgroup\":\"True\",\"hovertemplate\":\"color=Bani Suheila\\u003cbr\\u003eLocal de resid\\u00eancia=%{x}\\u003cbr\\u003eN\\u00famero de Fatalidades=%{y}\\u003cextra\\u003e\\u003c\\u002fextra\\u003e\",\"legendgroup\":\"Bani Suheila\",\"marker\":{\"color\":\"#FB00D1\",\"pattern\":{\"shape\":\"\"}},\"name\":\"Bani Suheila\",\"offsetgroup\":\"Bani Suheila\",\"orientation\":\"v\",\"showlegend\":true,\"textposition\":\"auto\",\"x\":[\"Bani Suheila\"],\"xaxis\":\"x\",\"y\":[182],\"yaxis\":\"y\",\"type\":\"bar\"},{\"alignmentgroup\":\"True\",\"hovertemplate\":\"color=Jenin R.C.\\u003cbr\\u003eLocal de resid\\u00eancia=%{x}\\u003cbr\\u003eN\\u00famero de Fatalidades=%{y}\\u003cextra\\u003e\\u003c\\u002fextra\\u003e\",\"legendgroup\":\"Jenin R.C.\",\"marker\":{\"color\":\"#FC0080\",\"pattern\":{\"shape\":\"\"}},\"name\":\"Jenin R.C.\",\"offsetgroup\":\"Jenin R.C.\",\"orientation\":\"v\",\"showlegend\":true,\"textposition\":\"auto\",\"x\":[\"Jenin R.C.\"],\"xaxis\":\"x\",\"y\":[170],\"yaxis\":\"y\",\"type\":\"bar\"},{\"alignmentgroup\":\"True\",\"hovertemplate\":\"color=Hebron\\u003cbr\\u003eLocal de resid\\u00eancia=%{x}\\u003cbr\\u003eN\\u00famero de Fatalidades=%{y}\\u003cextra\\u003e\\u003c\\u002fextra\\u003e\",\"legendgroup\":\"Hebron\",\"marker\":{\"color\":\"#B2828D\",\"pattern\":{\"shape\":\"\"}},\"name\":\"Hebron\",\"offsetgroup\":\"Hebron\",\"orientation\":\"v\",\"showlegend\":true,\"textposition\":\"auto\",\"x\":[\"Hebron\"],\"xaxis\":\"x\",\"y\":[164],\"yaxis\":\"y\",\"type\":\"bar\"},{\"alignmentgroup\":\"True\",\"hovertemplate\":\"color=Jerusalem\\u003cbr\\u003eLocal de resid\\u00eancia=%{x}\\u003cbr\\u003eN\\u00famero de Fatalidades=%{y}\\u003cextra\\u003e\\u003c\\u002fextra\\u003e\",\"legendgroup\":\"Jerusalem\",\"marker\":{\"color\":\"#6C7C32\",\"pattern\":{\"shape\":\"\"}},\"name\":\"Jerusalem\",\"offsetgroup\":\"Jerusalem\",\"orientation\":\"v\",\"showlegend\":true,\"textposition\":\"auto\",\"x\":[\"Jerusalem\"],\"xaxis\":\"x\",\"y\":[140],\"yaxis\":\"y\",\"type\":\"bar\"}],                        {\"template\":{\"data\":{\"histogram2dcontour\":[{\"type\":\"histogram2dcontour\",\"colorbar\":{\"outlinewidth\":0,\"ticks\":\"\"},\"colorscale\":[[0.0,\"#0d0887\"],[0.1111111111111111,\"#46039f\"],[0.2222222222222222,\"#7201a8\"],[0.3333333333333333,\"#9c179e\"],[0.4444444444444444,\"#bd3786\"],[0.5555555555555556,\"#d8576b\"],[0.6666666666666666,\"#ed7953\"],[0.7777777777777778,\"#fb9f3a\"],[0.8888888888888888,\"#fdca26\"],[1.0,\"#f0f921\"]]}],\"choropleth\":[{\"type\":\"choropleth\",\"colorbar\":{\"outlinewidth\":0,\"ticks\":\"\"}}],\"histogram2d\":[{\"type\":\"histogram2d\",\"colorbar\":{\"outlinewidth\":0,\"ticks\":\"\"},\"colorscale\":[[0.0,\"#0d0887\"],[0.1111111111111111,\"#46039f\"],[0.2222222222222222,\"#7201a8\"],[0.3333333333333333,\"#9c179e\"],[0.4444444444444444,\"#bd3786\"],[0.5555555555555556,\"#d8576b\"],[0.6666666666666666,\"#ed7953\"],[0.7777777777777778,\"#fb9f3a\"],[0.8888888888888888,\"#fdca26\"],[1.0,\"#f0f921\"]]}],\"heatmap\":[{\"type\":\"heatmap\",\"colorbar\":{\"outlinewidth\":0,\"ticks\":\"\"},\"colorscale\":[[0.0,\"#0d0887\"],[0.1111111111111111,\"#46039f\"],[0.2222222222222222,\"#7201a8\"],[0.3333333333333333,\"#9c179e\"],[0.4444444444444444,\"#bd3786\"],[0.5555555555555556,\"#d8576b\"],[0.6666666666666666,\"#ed7953\"],[0.7777777777777778,\"#fb9f3a\"],[0.8888888888888888,\"#fdca26\"],[1.0,\"#f0f921\"]]}],\"heatmapgl\":[{\"type\":\"heatmapgl\",\"colorbar\":{\"outlinewidth\":0,\"ticks\":\"\"},\"colorscale\":[[0.0,\"#0d0887\"],[0.1111111111111111,\"#46039f\"],[0.2222222222222222,\"#7201a8\"],[0.3333333333333333,\"#9c179e\"],[0.4444444444444444,\"#bd3786\"],[0.5555555555555556,\"#d8576b\"],[0.6666666666666666,\"#ed7953\"],[0.7777777777777778,\"#fb9f3a\"],[0.8888888888888888,\"#fdca26\"],[1.0,\"#f0f921\"]]}],\"contourcarpet\":[{\"type\":\"contourcarpet\",\"colorbar\":{\"outlinewidth\":0,\"ticks\":\"\"}}],\"contour\":[{\"type\":\"contour\",\"colorbar\":{\"outlinewidth\":0,\"ticks\":\"\"},\"colorscale\":[[0.0,\"#0d0887\"],[0.1111111111111111,\"#46039f\"],[0.2222222222222222,\"#7201a8\"],[0.3333333333333333,\"#9c179e\"],[0.4444444444444444,\"#bd3786\"],[0.5555555555555556,\"#d8576b\"],[0.6666666666666666,\"#ed7953\"],[0.7777777777777778,\"#fb9f3a\"],[0.8888888888888888,\"#fdca26\"],[1.0,\"#f0f921\"]]}],\"surface\":[{\"type\":\"surface\",\"colorbar\":{\"outlinewidth\":0,\"ticks\":\"\"},\"colorscale\":[[0.0,\"#0d0887\"],[0.1111111111111111,\"#46039f\"],[0.2222222222222222,\"#7201a8\"],[0.3333333333333333,\"#9c179e\"],[0.4444444444444444,\"#bd3786\"],[0.5555555555555556,\"#d8576b\"],[0.6666666666666666,\"#ed7953\"],[0.7777777777777778,\"#fb9f3a\"],[0.8888888888888888,\"#fdca26\"],[1.0,\"#f0f921\"]]}],\"mesh3d\":[{\"type\":\"mesh3d\",\"colorbar\":{\"outlinewidth\":0,\"ticks\":\"\"}}],\"scatter\":[{\"fillpattern\":{\"fillmode\":\"overlay\",\"size\":10,\"solidity\":0.2},\"type\":\"scatter\"}],\"parcoords\":[{\"type\":\"parcoords\",\"line\":{\"colorbar\":{\"outlinewidth\":0,\"ticks\":\"\"}}}],\"scatterpolargl\":[{\"type\":\"scatterpolargl\",\"marker\":{\"colorbar\":{\"outlinewidth\":0,\"ticks\":\"\"}}}],\"bar\":[{\"error_x\":{\"color\":\"#2a3f5f\"},\"error_y\":{\"color\":\"#2a3f5f\"},\"marker\":{\"line\":{\"color\":\"#E5ECF6\",\"width\":0.5},\"pattern\":{\"fillmode\":\"overlay\",\"size\":10,\"solidity\":0.2}},\"type\":\"bar\"}],\"scattergeo\":[{\"type\":\"scattergeo\",\"marker\":{\"colorbar\":{\"outlinewidth\":0,\"ticks\":\"\"}}}],\"scatterpolar\":[{\"type\":\"scatterpolar\",\"marker\":{\"colorbar\":{\"outlinewidth\":0,\"ticks\":\"\"}}}],\"histogram\":[{\"marker\":{\"pattern\":{\"fillmode\":\"overlay\",\"size\":10,\"solidity\":0.2}},\"type\":\"histogram\"}],\"scattergl\":[{\"type\":\"scattergl\",\"marker\":{\"colorbar\":{\"outlinewidth\":0,\"ticks\":\"\"}}}],\"scatter3d\":[{\"type\":\"scatter3d\",\"line\":{\"colorbar\":{\"outlinewidth\":0,\"ticks\":\"\"}},\"marker\":{\"colorbar\":{\"outlinewidth\":0,\"ticks\":\"\"}}}],\"scattermapbox\":[{\"type\":\"scattermapbox\",\"marker\":{\"colorbar\":{\"outlinewidth\":0,\"ticks\":\"\"}}}],\"scatterternary\":[{\"type\":\"scatterternary\",\"marker\":{\"colorbar\":{\"outlinewidth\":0,\"ticks\":\"\"}}}],\"scattercarpet\":[{\"type\":\"scattercarpet\",\"marker\":{\"colorbar\":{\"outlinewidth\":0,\"ticks\":\"\"}}}],\"carpet\":[{\"aaxis\":{\"endlinecolor\":\"#2a3f5f\",\"gridcolor\":\"white\",\"linecolor\":\"white\",\"minorgridcolor\":\"white\",\"startlinecolor\":\"#2a3f5f\"},\"baxis\":{\"endlinecolor\":\"#2a3f5f\",\"gridcolor\":\"white\",\"linecolor\":\"white\",\"minorgridcolor\":\"white\",\"startlinecolor\":\"#2a3f5f\"},\"type\":\"carpet\"}],\"table\":[{\"cells\":{\"fill\":{\"color\":\"#EBF0F8\"},\"line\":{\"color\":\"white\"}},\"header\":{\"fill\":{\"color\":\"#C8D4E3\"},\"line\":{\"color\":\"white\"}},\"type\":\"table\"}],\"barpolar\":[{\"marker\":{\"line\":{\"color\":\"#E5ECF6\",\"width\":0.5},\"pattern\":{\"fillmode\":\"overlay\",\"size\":10,\"solidity\":0.2}},\"type\":\"barpolar\"}],\"pie\":[{\"automargin\":true,\"type\":\"pie\"}]},\"layout\":{\"autotypenumbers\":\"strict\",\"colorway\":[\"#636efa\",\"#EF553B\",\"#00cc96\",\"#ab63fa\",\"#FFA15A\",\"#19d3f3\",\"#FF6692\",\"#B6E880\",\"#FF97FF\",\"#FECB52\"],\"font\":{\"color\":\"#2a3f5f\"},\"hovermode\":\"closest\",\"hoverlabel\":{\"align\":\"left\"},\"paper_bgcolor\":\"white\",\"plot_bgcolor\":\"#E5ECF6\",\"polar\":{\"bgcolor\":\"#E5ECF6\",\"angularaxis\":{\"gridcolor\":\"white\",\"linecolor\":\"white\",\"ticks\":\"\"},\"radialaxis\":{\"gridcolor\":\"white\",\"linecolor\":\"white\",\"ticks\":\"\"}},\"ternary\":{\"bgcolor\":\"#E5ECF6\",\"aaxis\":{\"gridcolor\":\"white\",\"linecolor\":\"white\",\"ticks\":\"\"},\"baxis\":{\"gridcolor\":\"white\",\"linecolor\":\"white\",\"ticks\":\"\"},\"caxis\":{\"gridcolor\":\"white\",\"linecolor\":\"white\",\"ticks\":\"\"}},\"coloraxis\":{\"colorbar\":{\"outlinewidth\":0,\"ticks\":\"\"}},\"colorscale\":{\"sequential\":[[0.0,\"#0d0887\"],[0.1111111111111111,\"#46039f\"],[0.2222222222222222,\"#7201a8\"],[0.3333333333333333,\"#9c179e\"],[0.4444444444444444,\"#bd3786\"],[0.5555555555555556,\"#d8576b\"],[0.6666666666666666,\"#ed7953\"],[0.7777777777777778,\"#fb9f3a\"],[0.8888888888888888,\"#fdca26\"],[1.0,\"#f0f921\"]],\"sequentialminus\":[[0.0,\"#0d0887\"],[0.1111111111111111,\"#46039f\"],[0.2222222222222222,\"#7201a8\"],[0.3333333333333333,\"#9c179e\"],[0.4444444444444444,\"#bd3786\"],[0.5555555555555556,\"#d8576b\"],[0.6666666666666666,\"#ed7953\"],[0.7777777777777778,\"#fb9f3a\"],[0.8888888888888888,\"#fdca26\"],[1.0,\"#f0f921\"]],\"diverging\":[[0,\"#8e0152\"],[0.1,\"#c51b7d\"],[0.2,\"#de77ae\"],[0.3,\"#f1b6da\"],[0.4,\"#fde0ef\"],[0.5,\"#f7f7f7\"],[0.6,\"#e6f5d0\"],[0.7,\"#b8e186\"],[0.8,\"#7fbc41\"],[0.9,\"#4d9221\"],[1,\"#276419\"]]},\"xaxis\":{\"gridcolor\":\"white\",\"linecolor\":\"white\",\"ticks\":\"\",\"title\":{\"standoff\":15},\"zerolinecolor\":\"white\",\"automargin\":true,\"zerolinewidth\":2},\"yaxis\":{\"gridcolor\":\"white\",\"linecolor\":\"white\",\"ticks\":\"\",\"title\":{\"standoff\":15},\"zerolinecolor\":\"white\",\"automargin\":true,\"zerolinewidth\":2},\"scene\":{\"xaxis\":{\"backgroundcolor\":\"#E5ECF6\",\"gridcolor\":\"white\",\"linecolor\":\"white\",\"showbackground\":true,\"ticks\":\"\",\"zerolinecolor\":\"white\",\"gridwidth\":2},\"yaxis\":{\"backgroundcolor\":\"#E5ECF6\",\"gridcolor\":\"white\",\"linecolor\":\"white\",\"showbackground\":true,\"ticks\":\"\",\"zerolinecolor\":\"white\",\"gridwidth\":2},\"zaxis\":{\"backgroundcolor\":\"#E5ECF6\",\"gridcolor\":\"white\",\"linecolor\":\"white\",\"showbackground\":true,\"ticks\":\"\",\"zerolinecolor\":\"white\",\"gridwidth\":2}},\"shapedefaults\":{\"line\":{\"color\":\"#2a3f5f\"}},\"annotationdefaults\":{\"arrowcolor\":\"#2a3f5f\",\"arrowhead\":0,\"arrowwidth\":1},\"geo\":{\"bgcolor\":\"white\",\"landcolor\":\"#E5ECF6\",\"subunitcolor\":\"white\",\"showland\":true,\"showlakes\":true,\"lakecolor\":\"white\"},\"title\":{\"x\":0.05},\"mapbox\":{\"style\":\"light\"}}},\"xaxis\":{\"anchor\":\"y\",\"domain\":[0.0,1.0],\"title\":{\"text\":\"Local de resid\\u00eancia\"},\"tickangle\":-40},\"yaxis\":{\"anchor\":\"x\",\"domain\":[0.0,1.0],\"title\":{\"text\":\"N\\u00famero de Fatalidades\"}},\"legend\":{\"title\":{\"text\":\"color\"},\"tracegroupgap\":0},\"title\":{\"text\":\"Top 15 locais comuns de resid\\u00eancia entre as v\\u00edtimas\"},\"barmode\":\"relative\"},                        {\"responsive\": true}                    ).then(function(){\n",
              "                            \n",
              "var gd = document.getElementById('57a3123d-91b5-419f-a5a8-1a30d88983ae');\n",
              "var x = new MutationObserver(function (mutations, observer) {{\n",
              "        var display = window.getComputedStyle(gd).display;\n",
              "        if (!display || display === 'none') {{\n",
              "            console.log([gd, 'removed!']);\n",
              "            Plotly.purge(gd);\n",
              "            observer.disconnect();\n",
              "        }}\n",
              "}});\n",
              "\n",
              "// Listen for the removal of the full notebook cells\n",
              "var notebookContainer = gd.closest('#notebook-container');\n",
              "if (notebookContainer) {{\n",
              "    x.observe(notebookContainer, {childList: true});\n",
              "}}\n",
              "\n",
              "// Listen for the clearing of the current output cell\n",
              "var outputEl = gd.closest('.output');\n",
              "if (outputEl) {{\n",
              "    x.observe(outputEl, {childList: true});\n",
              "}}\n",
              "\n",
              "                        })                };                            </script>        </div>\n",
              "</body>\n",
              "</html>"
            ]
          },
          "metadata": {}
        }
      ]
    },
    {
      "cell_type": "markdown",
      "source": [
        "**O gráfico exibe os 15 locais mais comuns entre as vítimas**:\n",
        "\n",
        "* Gaza city disparadamente se destaca como o local de residência com o maior número de vítimas mortas;\n",
        "* As três primeiras cidades do gráfico representam cidades da palestina;\n",
        "* As regiões que contém grandes números de vítimas são cidades da palestina;\n",
        "\n",
        "---"
      ],
      "metadata": {
        "id": "C-EdWZExPBzX"
      }
    },
    {
      "cell_type": "markdown",
      "source": [
        "#### **Visualizando os meios pelo qual os indivíduos foram mortos**"
      ],
      "metadata": {
        "id": "hV5sVOWbYic_"
      }
    },
    {
      "cell_type": "code",
      "source": [
        "injury_distribution = israel_palestine['tipo_de_injuria'].value_counts()\n",
        "\n",
        "\n",
        "injury_df = injury_distribution.reset_index()\n",
        "injury_df.columns = ['Tipo de Injuria', 'Número de Fatalidades']\n",
        "\n",
        "\n",
        "fig = px.bar(injury_df, x='Tipo de Injuria', y='Número de Fatalidades',\n",
        "             title='Distribuição entre tipos de injuria',\n",
        "             labels={'Número de Fatalidades': 'Número de Fatalidades'},\n",
        "             color='Número de Fatalidades', color_continuous_scale='tropic')\n",
        "\n",
        "fig.update_layout(xaxis_title='Tipo de Injuria', yaxis_title='Número de Fatalidades',\n",
        "                  xaxis=dict(tickmode='array', tickangle=40), bargap=0.2)\n",
        "\n",
        "\n",
        "fig.show()"
      ],
      "metadata": {
        "id": "2YCdcoWwTUAD",
        "colab": {
          "base_uri": "https://localhost:8080/",
          "height": 542
        },
        "outputId": "49fbb562-0756-472c-a760-4d51f7c445a5"
      },
      "execution_count": 57,
      "outputs": [
        {
          "output_type": "display_data",
          "data": {
            "text/html": [
              "<html>\n",
              "<head><meta charset=\"utf-8\" /></head>\n",
              "<body>\n",
              "    <div>            <script src=\"https://cdnjs.cloudflare.com/ajax/libs/mathjax/2.7.5/MathJax.js?config=TeX-AMS-MML_SVG\"></script><script type=\"text/javascript\">if (window.MathJax && window.MathJax.Hub && window.MathJax.Hub.Config) {window.MathJax.Hub.Config({SVG: {font: \"STIX-Web\"}});}</script>                <script type=\"text/javascript\">window.PlotlyConfig = {MathJaxConfig: 'local'};</script>\n",
              "        <script charset=\"utf-8\" src=\"https://cdn.plot.ly/plotly-2.24.1.min.js\"></script>                <div id=\"5cae6990-e223-4267-a250-40e0de6d4113\" class=\"plotly-graph-div\" style=\"height:525px; width:100%;\"></div>            <script type=\"text/javascript\">                                    window.PLOTLYENV=window.PLOTLYENV || {};                                    if (document.getElementById(\"5cae6990-e223-4267-a250-40e0de6d4113\")) {                    Plotly.newPlot(                        \"5cae6990-e223-4267-a250-40e0de6d4113\",                        [{\"alignmentgroup\":\"True\",\"hovertemplate\":\"Tipo de Injuria=%{x}\\u003cbr\\u003eN\\u00famero de Fatalidades=%{marker.color}\\u003cextra\\u003e\\u003c\\u002fextra\\u003e\",\"legendgroup\":\"\",\"marker\":{\"color\":[10122,556,311,49,41,18,9,6,4,4,2,1,1],\"coloraxis\":\"coloraxis\",\"pattern\":{\"shape\":\"\"}},\"name\":\"\",\"offsetgroup\":\"\",\"orientation\":\"v\",\"showlegend\":false,\"textposition\":\"auto\",\"x\":[\"gunfire\",\"explosion\",\"shelling\",\"stabbing\",\"house demolition\",\"hit by a vehicle\",\"beating\",\"stones throwing\",\"being bludgeoned with an axe\",\"fire\",\"physically assaulted\",\"physical assault\",\"Strangulation\"],\"xaxis\":\"x\",\"y\":[10122,556,311,49,41,18,9,6,4,4,2,1,1],\"yaxis\":\"y\",\"type\":\"bar\"}],                        {\"template\":{\"data\":{\"histogram2dcontour\":[{\"type\":\"histogram2dcontour\",\"colorbar\":{\"outlinewidth\":0,\"ticks\":\"\"},\"colorscale\":[[0.0,\"#0d0887\"],[0.1111111111111111,\"#46039f\"],[0.2222222222222222,\"#7201a8\"],[0.3333333333333333,\"#9c179e\"],[0.4444444444444444,\"#bd3786\"],[0.5555555555555556,\"#d8576b\"],[0.6666666666666666,\"#ed7953\"],[0.7777777777777778,\"#fb9f3a\"],[0.8888888888888888,\"#fdca26\"],[1.0,\"#f0f921\"]]}],\"choropleth\":[{\"type\":\"choropleth\",\"colorbar\":{\"outlinewidth\":0,\"ticks\":\"\"}}],\"histogram2d\":[{\"type\":\"histogram2d\",\"colorbar\":{\"outlinewidth\":0,\"ticks\":\"\"},\"colorscale\":[[0.0,\"#0d0887\"],[0.1111111111111111,\"#46039f\"],[0.2222222222222222,\"#7201a8\"],[0.3333333333333333,\"#9c179e\"],[0.4444444444444444,\"#bd3786\"],[0.5555555555555556,\"#d8576b\"],[0.6666666666666666,\"#ed7953\"],[0.7777777777777778,\"#fb9f3a\"],[0.8888888888888888,\"#fdca26\"],[1.0,\"#f0f921\"]]}],\"heatmap\":[{\"type\":\"heatmap\",\"colorbar\":{\"outlinewidth\":0,\"ticks\":\"\"},\"colorscale\":[[0.0,\"#0d0887\"],[0.1111111111111111,\"#46039f\"],[0.2222222222222222,\"#7201a8\"],[0.3333333333333333,\"#9c179e\"],[0.4444444444444444,\"#bd3786\"],[0.5555555555555556,\"#d8576b\"],[0.6666666666666666,\"#ed7953\"],[0.7777777777777778,\"#fb9f3a\"],[0.8888888888888888,\"#fdca26\"],[1.0,\"#f0f921\"]]}],\"heatmapgl\":[{\"type\":\"heatmapgl\",\"colorbar\":{\"outlinewidth\":0,\"ticks\":\"\"},\"colorscale\":[[0.0,\"#0d0887\"],[0.1111111111111111,\"#46039f\"],[0.2222222222222222,\"#7201a8\"],[0.3333333333333333,\"#9c179e\"],[0.4444444444444444,\"#bd3786\"],[0.5555555555555556,\"#d8576b\"],[0.6666666666666666,\"#ed7953\"],[0.7777777777777778,\"#fb9f3a\"],[0.8888888888888888,\"#fdca26\"],[1.0,\"#f0f921\"]]}],\"contourcarpet\":[{\"type\":\"contourcarpet\",\"colorbar\":{\"outlinewidth\":0,\"ticks\":\"\"}}],\"contour\":[{\"type\":\"contour\",\"colorbar\":{\"outlinewidth\":0,\"ticks\":\"\"},\"colorscale\":[[0.0,\"#0d0887\"],[0.1111111111111111,\"#46039f\"],[0.2222222222222222,\"#7201a8\"],[0.3333333333333333,\"#9c179e\"],[0.4444444444444444,\"#bd3786\"],[0.5555555555555556,\"#d8576b\"],[0.6666666666666666,\"#ed7953\"],[0.7777777777777778,\"#fb9f3a\"],[0.8888888888888888,\"#fdca26\"],[1.0,\"#f0f921\"]]}],\"surface\":[{\"type\":\"surface\",\"colorbar\":{\"outlinewidth\":0,\"ticks\":\"\"},\"colorscale\":[[0.0,\"#0d0887\"],[0.1111111111111111,\"#46039f\"],[0.2222222222222222,\"#7201a8\"],[0.3333333333333333,\"#9c179e\"],[0.4444444444444444,\"#bd3786\"],[0.5555555555555556,\"#d8576b\"],[0.6666666666666666,\"#ed7953\"],[0.7777777777777778,\"#fb9f3a\"],[0.8888888888888888,\"#fdca26\"],[1.0,\"#f0f921\"]]}],\"mesh3d\":[{\"type\":\"mesh3d\",\"colorbar\":{\"outlinewidth\":0,\"ticks\":\"\"}}],\"scatter\":[{\"fillpattern\":{\"fillmode\":\"overlay\",\"size\":10,\"solidity\":0.2},\"type\":\"scatter\"}],\"parcoords\":[{\"type\":\"parcoords\",\"line\":{\"colorbar\":{\"outlinewidth\":0,\"ticks\":\"\"}}}],\"scatterpolargl\":[{\"type\":\"scatterpolargl\",\"marker\":{\"colorbar\":{\"outlinewidth\":0,\"ticks\":\"\"}}}],\"bar\":[{\"error_x\":{\"color\":\"#2a3f5f\"},\"error_y\":{\"color\":\"#2a3f5f\"},\"marker\":{\"line\":{\"color\":\"#E5ECF6\",\"width\":0.5},\"pattern\":{\"fillmode\":\"overlay\",\"size\":10,\"solidity\":0.2}},\"type\":\"bar\"}],\"scattergeo\":[{\"type\":\"scattergeo\",\"marker\":{\"colorbar\":{\"outlinewidth\":0,\"ticks\":\"\"}}}],\"scatterpolar\":[{\"type\":\"scatterpolar\",\"marker\":{\"colorbar\":{\"outlinewidth\":0,\"ticks\":\"\"}}}],\"histogram\":[{\"marker\":{\"pattern\":{\"fillmode\":\"overlay\",\"size\":10,\"solidity\":0.2}},\"type\":\"histogram\"}],\"scattergl\":[{\"type\":\"scattergl\",\"marker\":{\"colorbar\":{\"outlinewidth\":0,\"ticks\":\"\"}}}],\"scatter3d\":[{\"type\":\"scatter3d\",\"line\":{\"colorbar\":{\"outlinewidth\":0,\"ticks\":\"\"}},\"marker\":{\"colorbar\":{\"outlinewidth\":0,\"ticks\":\"\"}}}],\"scattermapbox\":[{\"type\":\"scattermapbox\",\"marker\":{\"colorbar\":{\"outlinewidth\":0,\"ticks\":\"\"}}}],\"scatterternary\":[{\"type\":\"scatterternary\",\"marker\":{\"colorbar\":{\"outlinewidth\":0,\"ticks\":\"\"}}}],\"scattercarpet\":[{\"type\":\"scattercarpet\",\"marker\":{\"colorbar\":{\"outlinewidth\":0,\"ticks\":\"\"}}}],\"carpet\":[{\"aaxis\":{\"endlinecolor\":\"#2a3f5f\",\"gridcolor\":\"white\",\"linecolor\":\"white\",\"minorgridcolor\":\"white\",\"startlinecolor\":\"#2a3f5f\"},\"baxis\":{\"endlinecolor\":\"#2a3f5f\",\"gridcolor\":\"white\",\"linecolor\":\"white\",\"minorgridcolor\":\"white\",\"startlinecolor\":\"#2a3f5f\"},\"type\":\"carpet\"}],\"table\":[{\"cells\":{\"fill\":{\"color\":\"#EBF0F8\"},\"line\":{\"color\":\"white\"}},\"header\":{\"fill\":{\"color\":\"#C8D4E3\"},\"line\":{\"color\":\"white\"}},\"type\":\"table\"}],\"barpolar\":[{\"marker\":{\"line\":{\"color\":\"#E5ECF6\",\"width\":0.5},\"pattern\":{\"fillmode\":\"overlay\",\"size\":10,\"solidity\":0.2}},\"type\":\"barpolar\"}],\"pie\":[{\"automargin\":true,\"type\":\"pie\"}]},\"layout\":{\"autotypenumbers\":\"strict\",\"colorway\":[\"#636efa\",\"#EF553B\",\"#00cc96\",\"#ab63fa\",\"#FFA15A\",\"#19d3f3\",\"#FF6692\",\"#B6E880\",\"#FF97FF\",\"#FECB52\"],\"font\":{\"color\":\"#2a3f5f\"},\"hovermode\":\"closest\",\"hoverlabel\":{\"align\":\"left\"},\"paper_bgcolor\":\"white\",\"plot_bgcolor\":\"#E5ECF6\",\"polar\":{\"bgcolor\":\"#E5ECF6\",\"angularaxis\":{\"gridcolor\":\"white\",\"linecolor\":\"white\",\"ticks\":\"\"},\"radialaxis\":{\"gridcolor\":\"white\",\"linecolor\":\"white\",\"ticks\":\"\"}},\"ternary\":{\"bgcolor\":\"#E5ECF6\",\"aaxis\":{\"gridcolor\":\"white\",\"linecolor\":\"white\",\"ticks\":\"\"},\"baxis\":{\"gridcolor\":\"white\",\"linecolor\":\"white\",\"ticks\":\"\"},\"caxis\":{\"gridcolor\":\"white\",\"linecolor\":\"white\",\"ticks\":\"\"}},\"coloraxis\":{\"colorbar\":{\"outlinewidth\":0,\"ticks\":\"\"}},\"colorscale\":{\"sequential\":[[0.0,\"#0d0887\"],[0.1111111111111111,\"#46039f\"],[0.2222222222222222,\"#7201a8\"],[0.3333333333333333,\"#9c179e\"],[0.4444444444444444,\"#bd3786\"],[0.5555555555555556,\"#d8576b\"],[0.6666666666666666,\"#ed7953\"],[0.7777777777777778,\"#fb9f3a\"],[0.8888888888888888,\"#fdca26\"],[1.0,\"#f0f921\"]],\"sequentialminus\":[[0.0,\"#0d0887\"],[0.1111111111111111,\"#46039f\"],[0.2222222222222222,\"#7201a8\"],[0.3333333333333333,\"#9c179e\"],[0.4444444444444444,\"#bd3786\"],[0.5555555555555556,\"#d8576b\"],[0.6666666666666666,\"#ed7953\"],[0.7777777777777778,\"#fb9f3a\"],[0.8888888888888888,\"#fdca26\"],[1.0,\"#f0f921\"]],\"diverging\":[[0,\"#8e0152\"],[0.1,\"#c51b7d\"],[0.2,\"#de77ae\"],[0.3,\"#f1b6da\"],[0.4,\"#fde0ef\"],[0.5,\"#f7f7f7\"],[0.6,\"#e6f5d0\"],[0.7,\"#b8e186\"],[0.8,\"#7fbc41\"],[0.9,\"#4d9221\"],[1,\"#276419\"]]},\"xaxis\":{\"gridcolor\":\"white\",\"linecolor\":\"white\",\"ticks\":\"\",\"title\":{\"standoff\":15},\"zerolinecolor\":\"white\",\"automargin\":true,\"zerolinewidth\":2},\"yaxis\":{\"gridcolor\":\"white\",\"linecolor\":\"white\",\"ticks\":\"\",\"title\":{\"standoff\":15},\"zerolinecolor\":\"white\",\"automargin\":true,\"zerolinewidth\":2},\"scene\":{\"xaxis\":{\"backgroundcolor\":\"#E5ECF6\",\"gridcolor\":\"white\",\"linecolor\":\"white\",\"showbackground\":true,\"ticks\":\"\",\"zerolinecolor\":\"white\",\"gridwidth\":2},\"yaxis\":{\"backgroundcolor\":\"#E5ECF6\",\"gridcolor\":\"white\",\"linecolor\":\"white\",\"showbackground\":true,\"ticks\":\"\",\"zerolinecolor\":\"white\",\"gridwidth\":2},\"zaxis\":{\"backgroundcolor\":\"#E5ECF6\",\"gridcolor\":\"white\",\"linecolor\":\"white\",\"showbackground\":true,\"ticks\":\"\",\"zerolinecolor\":\"white\",\"gridwidth\":2}},\"shapedefaults\":{\"line\":{\"color\":\"#2a3f5f\"}},\"annotationdefaults\":{\"arrowcolor\":\"#2a3f5f\",\"arrowhead\":0,\"arrowwidth\":1},\"geo\":{\"bgcolor\":\"white\",\"landcolor\":\"#E5ECF6\",\"subunitcolor\":\"white\",\"showland\":true,\"showlakes\":true,\"lakecolor\":\"white\"},\"title\":{\"x\":0.05},\"mapbox\":{\"style\":\"light\"}}},\"xaxis\":{\"anchor\":\"y\",\"domain\":[0.0,1.0],\"title\":{\"text\":\"Tipo de Injuria\"},\"tickmode\":\"array\",\"tickangle\":40},\"yaxis\":{\"anchor\":\"x\",\"domain\":[0.0,1.0],\"title\":{\"text\":\"N\\u00famero de Fatalidades\"}},\"coloraxis\":{\"colorbar\":{\"title\":{\"text\":\"N\\u00famero de Fatalidades\"}},\"colorscale\":[[0.0,\"rgb(0, 155, 158)\"],[0.16666666666666666,\"rgb(66, 183, 185)\"],[0.3333333333333333,\"rgb(167, 211, 212)\"],[0.5,\"rgb(241, 241, 241)\"],[0.6666666666666666,\"rgb(228, 193, 217)\"],[0.8333333333333334,\"rgb(214, 145, 193)\"],[1.0,\"rgb(199, 93, 171)\"]]},\"legend\":{\"tracegroupgap\":0},\"title\":{\"text\":\"Distribui\\u00e7\\u00e3o entre tipos de injuria\"},\"barmode\":\"relative\",\"bargap\":0.2},                        {\"responsive\": true}                    ).then(function(){\n",
              "                            \n",
              "var gd = document.getElementById('5cae6990-e223-4267-a250-40e0de6d4113');\n",
              "var x = new MutationObserver(function (mutations, observer) {{\n",
              "        var display = window.getComputedStyle(gd).display;\n",
              "        if (!display || display === 'none') {{\n",
              "            console.log([gd, 'removed!']);\n",
              "            Plotly.purge(gd);\n",
              "            observer.disconnect();\n",
              "        }}\n",
              "}});\n",
              "\n",
              "// Listen for the removal of the full notebook cells\n",
              "var notebookContainer = gd.closest('#notebook-container');\n",
              "if (notebookContainer) {{\n",
              "    x.observe(notebookContainer, {childList: true});\n",
              "}}\n",
              "\n",
              "// Listen for the clearing of the current output cell\n",
              "var outputEl = gd.closest('.output');\n",
              "if (outputEl) {{\n",
              "    x.observe(outputEl, {childList: true});\n",
              "}}\n",
              "\n",
              "                        })                };                            </script>        </div>\n",
              "</body>\n",
              "</html>"
            ]
          },
          "metadata": {}
        }
      ]
    },
    {
      "cell_type": "markdown",
      "source": [
        "**O gráfico apresenta diferentes tipos de injura**:\n",
        "\n",
        "* Armas são o maior responsável pelas mortes. Outros tipos de ferimentos, como os de explosões ou bombardeios, estão presentes, mas em números muito menores."
      ],
      "metadata": {
        "id": "-JfvpFIwXDM_"
      }
    },
    {
      "cell_type": "markdown",
      "source": [
        "## 4\\. Storytelling"
      ],
      "metadata": {
        "id": "JU0suepfOBAD"
      }
    },
    {
      "cell_type": "markdown",
      "source": [
        "Com os dados disponibilizados, dividimos nosso trabalho por tópicos: Introdução, análise exploratória e visualização dos dados. Através da visualização conseguimos gerar insights valiosos, sendo eles:\n",
        "\n",
        "* Maior parte das vítimas eram do sexo masculino;\n",
        "* As forcas de segurança de israel são os principais responsáveis pela maioria das vítimas mortas;\n",
        "* Gaza city, Rafah e Khan Yunis são as cidades com o maior número de vítimas fatais;\n",
        "* Armas é disparado o maior responsável pelas mortes, totalizando cerca de 10.000 fatalidades;\n",
        "* Maior parte da vítimas tem entre 20 e 50 anos, idades acimas representam **outliers**;"
      ],
      "metadata": {
        "id": "ouaGDAEyP8Kv"
      }
    },
    {
      "cell_type": "markdown",
      "source": [
        "**Para todos inocentes que partiram no conflito entre israel e Palestina, que suas vidas nos inspirem a buscar a paz e justiça para que nenhum outro coração sofra a dor da violência.**"
      ],
      "metadata": {
        "id": "5kGhqp8XW4BK"
      }
    }
  ]
}